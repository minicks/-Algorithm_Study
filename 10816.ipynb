{
  "nbformat": 4,
  "nbformat_minor": 0,
  "metadata": {
    "colab": {
      "name": "10816.ipynb",
      "provenance": [],
      "authorship_tag": "ABX9TyP6rRiuD1O04Ze9xbtnjSeY",
      "include_colab_link": true
    },
    "kernelspec": {
      "name": "python3",
      "display_name": "Python 3"
    },
    "language_info": {
      "name": "python"
    }
  },
  "cells": [
    {
      "cell_type": "markdown",
      "metadata": {
        "id": "view-in-github",
        "colab_type": "text"
      },
      "source": [
        "<a href=\"https://colab.research.google.com/github/minicks/-Algorithm_Study/blob/main/10816.ipynb\" target=\"_parent\"><img src=\"https://colab.research.google.com/assets/colab-badge.svg\" alt=\"Open In Colab\"/></a>"
      ]
    },
    {
      "cell_type": "code",
      "metadata": {
        "colab": {
          "base_uri": "https://localhost:8080/"
        },
        "id": "ErKKHNWqBQik",
        "outputId": "fb77bb20-0576-4bcb-b31d-ac2b04c88d99"
      },
      "source": [
        "N = int(input())\n",
        "\n",
        "s_card = list(map(int,input().split()))\n",
        "\n",
        "M = int(input())\n",
        "\n",
        "num_list = list(map(int,input().split()))\n",
        "\n",
        "for i in num_list:\n",
        "    print(s_card.count(i), end = \" \")"
      ],
      "execution_count": 1,
      "outputs": [
        {
          "output_type": "stream",
          "text": [
            "10\n",
            "6 3 2 10 10 10 -10 -10 7 3\n",
            "8\n",
            "10 9 -5 2 3 4 5 -10\n",
            "3 0 0 1 2 0 0 2 "
          ],
          "name": "stdout"
        }
      ]
    }
  ]
}