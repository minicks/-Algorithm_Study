{
  "nbformat": 4,
  "nbformat_minor": 0,
  "metadata": {
    "colab": {
      "name": "11723.ipynb",
      "provenance": [],
      "authorship_tag": "ABX9TyNaGV06MSbhj1L/WBdo8ZMQ",
      "include_colab_link": true
    },
    "kernelspec": {
      "name": "python3",
      "display_name": "Python 3"
    },
    "language_info": {
      "name": "python"
    }
  },
  "cells": [
    {
      "cell_type": "markdown",
      "metadata": {
        "id": "view-in-github",
        "colab_type": "text"
      },
      "source": [
        "<a href=\"https://colab.research.google.com/github/minicks/-Algorithm_Study/blob/main/11723.ipynb\" target=\"_parent\"><img src=\"https://colab.research.google.com/assets/colab-badge.svg\" alt=\"Open In Colab\"/></a>"
      ]
    },
    {
      "cell_type": "code",
      "metadata": {
        "colab": {
          "base_uri": "https://localhost:8080/",
          "height": 280
        },
        "id": "xMyxc9IsgKgQ",
        "outputId": "bf37fe68-e252-477f-a31b-441113d4ceae"
      },
      "source": [
        "import sys\n",
        "\n",
        "N = int(input())\n",
        "\n",
        "S = set()\n",
        "\n",
        "for i in range(N):\n",
        "    oper = sys.stdin.readline().strip().split()\n",
        "    print(oper)\n",
        "    if oper in [\"all\",\"empty\"]:\n",
        "        if oper == \"all\":\n",
        "            S = set([i for i in range(1,21)])\n",
        "        else:\n",
        "            S = set()\n",
        "        continue\n",
        "    else:\n",
        "        oper, num = oper[0],oper[1]\n",
        "        num = int(num)\n",
        "    if oper == \"add\":\n",
        "        S.add(num)\n",
        "    elif oper == \"remove\":\n",
        "        if num in S:\n",
        "            S.remove(num)\n",
        "    elif oper == \"check\":\n",
        "        if num in S:\n",
        "            print(1)\n",
        "        else:\n",
        "            print(0)\n",
        "    elif oper == \"toggle\":\n",
        "        if num in S:\n",
        "            S.remove(num)\n",
        "        else:\n",
        "            S.add(num)\n",
        "  "
      ],
      "execution_count": 5,
      "outputs": [
        {
          "output_type": "stream",
          "text": [
            "26\n",
            "[]\n"
          ],
          "name": "stdout"
        },
        {
          "output_type": "error",
          "ename": "IndexError",
          "evalue": "ignored",
          "traceback": [
            "\u001b[0;31m---------------------------------------------------------------------------\u001b[0m",
            "\u001b[0;31mIndexError\u001b[0m                                Traceback (most recent call last)",
            "\u001b[0;32m<ipython-input-5-a72a8f553289>\u001b[0m in \u001b[0;36m<module>\u001b[0;34m()\u001b[0m\n\u001b[1;32m     15\u001b[0m         \u001b[0;32mcontinue\u001b[0m\u001b[0;34m\u001b[0m\u001b[0;34m\u001b[0m\u001b[0m\n\u001b[1;32m     16\u001b[0m     \u001b[0;32melse\u001b[0m\u001b[0;34m:\u001b[0m\u001b[0;34m\u001b[0m\u001b[0;34m\u001b[0m\u001b[0m\n\u001b[0;32m---> 17\u001b[0;31m         \u001b[0moper\u001b[0m\u001b[0;34m,\u001b[0m \u001b[0mnum\u001b[0m \u001b[0;34m=\u001b[0m \u001b[0moper\u001b[0m\u001b[0;34m[\u001b[0m\u001b[0;36m0\u001b[0m\u001b[0;34m]\u001b[0m\u001b[0;34m,\u001b[0m\u001b[0moper\u001b[0m\u001b[0;34m[\u001b[0m\u001b[0;36m1\u001b[0m\u001b[0;34m]\u001b[0m\u001b[0;34m\u001b[0m\u001b[0;34m\u001b[0m\u001b[0m\n\u001b[0m\u001b[1;32m     18\u001b[0m         \u001b[0mnum\u001b[0m \u001b[0;34m=\u001b[0m \u001b[0mint\u001b[0m\u001b[0;34m(\u001b[0m\u001b[0mnum\u001b[0m\u001b[0;34m)\u001b[0m\u001b[0;34m\u001b[0m\u001b[0;34m\u001b[0m\u001b[0m\n\u001b[1;32m     19\u001b[0m     \u001b[0;32mif\u001b[0m \u001b[0moper\u001b[0m \u001b[0;34m==\u001b[0m \u001b[0;34m\"add\"\u001b[0m\u001b[0;34m:\u001b[0m\u001b[0;34m\u001b[0m\u001b[0;34m\u001b[0m\u001b[0m\n",
            "\u001b[0;31mIndexError\u001b[0m: list index out of range"
          ]
        }
      ]
    },
    {
      "cell_type": "code",
      "metadata": {
        "colab": {
          "base_uri": "https://localhost:8080/",
          "height": 244
        },
        "id": "FYllNL42heV-",
        "outputId": "68ee0766-2c8b-4fae-a8d3-f09ff8973240"
      },
      "source": [
        "import sys\n",
        "\n",
        "m = int(sys.stdin.readline())\n",
        "S = set()\n",
        "\n",
        "for _ in range(m):\n",
        "    temp = sys.stdin.readline().strip().split()\n",
        "    \n",
        "    if len(temp) == 1:\n",
        "        if temp[0] == \"all\":\n",
        "            S = set([i for i in range(1, 21)])\n",
        "        else:\n",
        "            S = set()\n",
        "    \n",
        "    else:\n",
        "        func, x = temp[0], temp[1]\n",
        "        x = int(x)\n",
        "\n",
        "        if func == \"add\":\n",
        "            S.add(x)\n",
        "        elif func == \"remove\":\n",
        "            S.discard(x)\n",
        "        elif func == \"check\":\n",
        "            print(1 if x in S else 0)\n",
        "        elif func == \"toggle\":\n",
        "            if x in S:\n",
        "                S.discard(x)\n",
        "            else:\n",
        "                S.add(x)"
      ],
      "execution_count": 8,
      "outputs": [
        {
          "output_type": "error",
          "ename": "ValueError",
          "evalue": "ignored",
          "traceback": [
            "\u001b[0;31m---------------------------------------------------------------------------\u001b[0m",
            "\u001b[0;31mValueError\u001b[0m                                Traceback (most recent call last)",
            "\u001b[0;32m<ipython-input-8-df91e3416297>\u001b[0m in \u001b[0;36m<module>\u001b[0;34m()\u001b[0m\n\u001b[1;32m      1\u001b[0m \u001b[0;32mimport\u001b[0m \u001b[0msys\u001b[0m\u001b[0;34m\u001b[0m\u001b[0;34m\u001b[0m\u001b[0m\n\u001b[1;32m      2\u001b[0m \u001b[0;34m\u001b[0m\u001b[0m\n\u001b[0;32m----> 3\u001b[0;31m \u001b[0mm\u001b[0m \u001b[0;34m=\u001b[0m \u001b[0mint\u001b[0m\u001b[0;34m(\u001b[0m\u001b[0msys\u001b[0m\u001b[0;34m.\u001b[0m\u001b[0mstdin\u001b[0m\u001b[0;34m.\u001b[0m\u001b[0mreadline\u001b[0m\u001b[0;34m(\u001b[0m\u001b[0;34m)\u001b[0m\u001b[0;34m)\u001b[0m\u001b[0;34m\u001b[0m\u001b[0;34m\u001b[0m\u001b[0m\n\u001b[0m\u001b[1;32m      4\u001b[0m \u001b[0mS\u001b[0m \u001b[0;34m=\u001b[0m \u001b[0mset\u001b[0m\u001b[0;34m(\u001b[0m\u001b[0;34m)\u001b[0m\u001b[0;34m\u001b[0m\u001b[0;34m\u001b[0m\u001b[0m\n\u001b[1;32m      5\u001b[0m \u001b[0;34m\u001b[0m\u001b[0m\n",
            "\u001b[0;31mValueError\u001b[0m: invalid literal for int() with base 10: ''"
          ]
        }
      ]
    },
    {
      "cell_type": "code",
      "metadata": {
        "id": "h69uxgmugQ7H"
      },
      "source": [
        "26\n",
        "add 1\n",
        "add 2\n",
        "check 1\n",
        "check 2\n",
        "check 3\n",
        "remove 2\n",
        "check 1\n",
        "check 2\n",
        "toggle 3\n",
        "check 1\n",
        "check 2\n",
        "check 3\n",
        "check 4\n",
        "all\n",
        "check 10\n",
        "check 20\n",
        "toggle 10\n",
        "remove 20\n",
        "check 10\n",
        "check 20\n",
        "empty\n",
        "check 1\n",
        "toggle 1\n",
        "check 1\n",
        "toggle 1\n",
        "check 1"
      ],
      "execution_count": null,
      "outputs": []
    }
  ]
}