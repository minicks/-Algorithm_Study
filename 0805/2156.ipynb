{
  "nbformat": 4,
  "nbformat_minor": 0,
  "metadata": {
    "colab": {
      "name": "2156.ipynb",
      "provenance": [],
      "authorship_tag": "ABX9TyMiBFOScM8yBwXZxnwe6+2s",
      "include_colab_link": true
    },
    "kernelspec": {
      "name": "python3",
      "display_name": "Python 3"
    },
    "language_info": {
      "name": "python"
    }
  },
  "cells": [
    {
      "cell_type": "markdown",
      "metadata": {
        "id": "view-in-github",
        "colab_type": "text"
      },
      "source": [
        "<a href=\"https://colab.research.google.com/github/minicks/-Algorithm_Study/blob/main/0805/2156.ipynb\" target=\"_parent\"><img src=\"https://colab.research.google.com/assets/colab-badge.svg\" alt=\"Open In Colab\"/></a>"
      ]
    },
    {
      "cell_type": "code",
      "metadata": {
        "id": "d8-6uHG_w6S3"
      },
      "source": [
        "import sys\n",
        "N = int(sys.stdin.readline())\n",
        "# 와인 양 저장 0번째는 0으로\n",
        "w = [0]\n",
        "for i in range(N):\n",
        "    w.append(int(sys.stdin.readline()))\n",
        "\n",
        "# dp도 0번째는 0으로\n",
        "dp = [0]\n",
        "\n",
        "# 1번째는 최대가 선택하는 방법이기때문\n",
        "dp.append(w[1])\n",
        "\n",
        "# 와인잔이 2개 이상이면 밑에 수행.\n",
        "# 2번째는 1,2 선택이 최대.\n",
        "if N > 1:\n",
        "    dp.append(w[1] + w[2])\n",
        "\n",
        "# 1. 해당 와인잔 선택 - 1.1 전의 잔 선택 + 3번째 전 최대값. 1.2 전의 잔 미선택 + 2번째 전 최대값\n",
        "# 2. 해당 와인잔 미선택 - 전의 최대값.\n",
        "for i in range(3, N + 1):\n",
        "    dp.append(max(w[i] + w[i - 1] + dp[i - 3], w[i] + dp[i - 2], dp[i - 1]))\n",
        "print(dp[N])"
      ],
      "execution_count": null,
      "outputs": []
    }
  ]
}