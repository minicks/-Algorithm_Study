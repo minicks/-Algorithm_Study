{
  "nbformat": 4,
  "nbformat_minor": 0,
  "metadata": {
    "colab": {
      "name": "14465.ipynb",
      "provenance": [],
      "authorship_tag": "ABX9TyP0BqovyKLt1CZFq01Xx1Iz",
      "include_colab_link": true
    },
    "kernelspec": {
      "name": "python3",
      "display_name": "Python 3"
    },
    "language_info": {
      "name": "python"
    }
  },
  "cells": [
    {
      "cell_type": "markdown",
      "metadata": {
        "id": "view-in-github",
        "colab_type": "text"
      },
      "source": [
        "<a href=\"https://colab.research.google.com/github/minicks/-Algorithm_Study/blob/main/0805/14465.ipynb\" target=\"_parent\"><img src=\"https://colab.research.google.com/assets/colab-badge.svg\" alt=\"Open In Colab\"/></a>"
      ]
    },
    {
      "cell_type": "code",
      "metadata": {
        "id": "9dp2MiVMw3B7"
      },
      "source": [
        "import sys\n",
        "\n",
        "N, K, B = map(int,sys.stdin.readline().split())\n",
        "\n",
        "# 고장난 신호등 초기화\n",
        "sign = [0] * (N + 1)\n",
        "\n",
        "# 고장난 신호등 저장\n",
        "for i in range(B):\n",
        "    sign[int(sys.stdin.readline())] = 1\n",
        "\n",
        "# K번째까지 망가진 것을 최소로 시작\n",
        "min = sum(sign[:K+1])\n",
        "cnt = min\n",
        "# K번째 까지를 미리 구하고 하나씩 나가면서 갯수를 세린다.\n",
        "for i in range(K+1,N+1):\n",
        "    # 해당 신호등이 고장이면 증가\n",
        "    if sign[i]:\n",
        "        cnt += 1\n",
        "    # K 번째 전인 신호등은 이제 빠지니깐 고장난 신호등이면 감소\n",
        "    if sign[i-K]:\n",
        "        cnt -= 1\n",
        "    # 그렇게 최소인 것을 저장\n",
        "    if min > cnt:\n",
        "        min = cnt\n",
        "        \n",
        "print(min)"
      ],
      "execution_count": null,
      "outputs": []
    }
  ]
}