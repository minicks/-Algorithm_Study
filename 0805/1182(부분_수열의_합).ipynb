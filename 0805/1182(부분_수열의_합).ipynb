{
  "nbformat": 4,
  "nbformat_minor": 0,
  "metadata": {
    "colab": {
      "name": "1182(부분 수열의 합).ipynb",
      "provenance": [],
      "authorship_tag": "ABX9TyOsQrvQjDS2vtYqvl31QU5e",
      "include_colab_link": true
    },
    "kernelspec": {
      "name": "python3",
      "display_name": "Python 3"
    },
    "language_info": {
      "name": "python"
    }
  },
  "cells": [
    {
      "cell_type": "markdown",
      "metadata": {
        "id": "view-in-github",
        "colab_type": "text"
      },
      "source": [
        "<a href=\"https://colab.research.google.com/github/minicks/-Algorithm_Study/blob/main/0805/1182(%EB%B6%80%EB%B6%84_%EC%88%98%EC%97%B4%EC%9D%98_%ED%95%A9).ipynb\" target=\"_parent\"><img src=\"https://colab.research.google.com/assets/colab-badge.svg\" alt=\"Open In Colab\"/></a>"
      ]
    },
    {
      "cell_type": "code",
      "metadata": {
        "id": "k3esviloxYO4"
      },
      "source": [
        "import sys\n",
        "\n",
        "N, S = map(int,sys.stdin.readline().split())\n",
        "\n",
        "nums = list(map(int,sys.stdin.readline().split()))\n",
        "cnt = 0\n",
        "\n",
        "for i in range(1,1<<N):\n",
        "    nsum = 0\n",
        "    for j in range(N):\n",
        "        if i & (1<<j):\n",
        "            nsum += nums[j]\n",
        "    if nsum == S:\n",
        "        cnt += 1\n",
        "\n",
        "print(cnt)"
      ],
      "execution_count": null,
      "outputs": []
    }
  ]
}