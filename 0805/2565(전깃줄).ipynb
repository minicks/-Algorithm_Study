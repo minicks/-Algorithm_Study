{
  "nbformat": 4,
  "nbformat_minor": 0,
  "metadata": {
    "colab": {
      "name": "2565(전깃줄).ipynb",
      "provenance": [],
      "authorship_tag": "ABX9TyM/26+65a5RnYtns31PTsts",
      "include_colab_link": true
    },
    "kernelspec": {
      "name": "python3",
      "display_name": "Python 3"
    },
    "language_info": {
      "name": "python"
    }
  },
  "cells": [
    {
      "cell_type": "markdown",
      "metadata": {
        "id": "view-in-github",
        "colab_type": "text"
      },
      "source": [
        "<a href=\"https://colab.research.google.com/github/minicks/-Algorithm_Study/blob/main/0805/2565(%EC%A0%84%EA%B9%83%EC%A4%84).ipynb\" target=\"_parent\"><img src=\"https://colab.research.google.com/assets/colab-badge.svg\" alt=\"Open In Colab\"/></a>"
      ]
    },
    {
      "cell_type": "code",
      "metadata": {
        "id": "I0Pa-lI-xK6b"
      },
      "source": [
        "import sys\n",
        "\n",
        "N = int(sys.stdin.readline())\n",
        "\n",
        "line = []\n",
        "for _ in range(N):\n",
        "    line.append(tuple(map(int,sys.stdin.readline().split())))\n",
        "\n",
        "line.sort()\n",
        "\n",
        "# 모든 요소가 자기 자신은 요소로 가지는 긴 수열을 만들 수 있기 때문에\n",
        "# 1로 초기화\n",
        "lenline = len(line)\n",
        "countline = [1] * lenline\n",
        "\n",
        "# 가장 긴 수열 찾기\n",
        "def find():\n",
        "    for i in range(lenline):\n",
        "        for j in range(i):\n",
        "            # 전의 요소보다 크다면 \n",
        "            # 그 요소와 자기 자신, 현재의 자기가 가진 수열을 비교하여 큰 것을 저장\n",
        "            if line[i][1] > line[j][1]:\n",
        "                countline[i] = max(countline[i],countline[j]+1)\n",
        "\n",
        "find()\n",
        "# 전체 전깃줄에서 가장 긴 수열(가장 많이 살린 전깃줄)을 제외하고 자르면 된다.\n",
        "print(N - max(countline))"
      ],
      "execution_count": null,
      "outputs": []
    }
  ]
}