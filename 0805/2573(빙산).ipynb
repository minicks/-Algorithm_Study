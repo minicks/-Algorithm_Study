{
  "nbformat": 4,
  "nbformat_minor": 0,
  "metadata": {
    "colab": {
      "name": "2573(빙산).ipynb",
      "provenance": [],
      "authorship_tag": "ABX9TyO2i3o6H9GQguCMe9cMZMXM",
      "include_colab_link": true
    },
    "kernelspec": {
      "name": "python3",
      "display_name": "Python 3"
    },
    "language_info": {
      "name": "python"
    }
  },
  "cells": [
    {
      "cell_type": "markdown",
      "metadata": {
        "id": "view-in-github",
        "colab_type": "text"
      },
      "source": [
        "<a href=\"https://colab.research.google.com/github/minicks/-Algorithm_Study/blob/main/0805/2573(%EB%B9%99%EC%82%B0).ipynb\" target=\"_parent\"><img src=\"https://colab.research.google.com/assets/colab-badge.svg\" alt=\"Open In Colab\"/></a>"
      ]
    },
    {
      "cell_type": "code",
      "metadata": {
        "id": "Y3gThpO2xPIl"
      },
      "source": [
        "import sys\n",
        "from copy import deepcopy\n",
        "N, M = map(int,sys.stdin.readline().split())\n",
        "\n",
        "total =[]\n",
        "\n",
        "for _ in range(N):\n",
        "    total.append(list(map(int,sys.stdin.readline().split())))\n",
        "\n",
        "visit = []\n",
        "for _ in range(N):\n",
        "    visit.append([0] * M)\n",
        "\n",
        "# 매년 방문을 저장하기 위해 초기화를 저장\n",
        "v_copy = deepcopy(visit)\n",
        "\n",
        "# 방향\n",
        "xy=[(-1,0),(0,1),(1,0),(0,-1)]\n",
        "\n",
        "# 위치로 BFS로 탐색 \n",
        "def bfs(i,j):\n",
        "    q =[(i,j)]\n",
        "    global cnt\n",
        "    while q:\n",
        "        st = q.pop(0)\n",
        "        visit[st[0]][st[1]] = 1\n",
        "        # 주위의 물 갯수\n",
        "        bcnt = 0\n",
        "        # 4방향 탐색\n",
        "        for x,y in xy:\n",
        "            # 4방향에서 빙하가 있고 탐색을 안한 곳이면 다음 탐색을 위해 저장\n",
        "            if total[st[0]+x][st[1]+y] > 0 and visit[st[0]+x][st[1]+y] == 0:\n",
        "                # visit를 안하면 방금 녹은 빙하까지 물로 인식하기 때문에 방문 표시\n",
        "                visit[st[0]+x][st[1]+y] = 1\n",
        "                q.append((st[0]+x,st[1]+y))\n",
        "            \n",
        "            # 빙하가 없지만 방문했던 곳은 방금 녹은 곳 \n",
        "            elif visit[st[0]+x][st[1]+y] == 1:\n",
        "                pass\n",
        "            # 빙하가 없고 방문을 안했으면 원래 물\n",
        "            else:\n",
        "                bcnt += 1\n",
        "        # 물만큼 빙하를 녹인다.\n",
        "        total[st[0]][st[1]] -= bcnt\n",
        "\n",
        "        # 마이너스가 되면 0으로 초기화\n",
        "        if total[st[0]][st[1]] < 1:\n",
        "            total[st[0]][st[1]] = 0  \n",
        "    # 빙하 갯수\n",
        "    cnt += 1\n",
        "\n",
        "# 안되는 경우 check\n",
        "ck = True\n",
        "year = 0\n",
        "\n",
        "# 순회시작\n",
        "while True:\n",
        "    cnt = 0\n",
        "    for i in range(1,N-1):\n",
        "        for j in range(1,M-1):\n",
        "            if total[i][j] > 0 and visit[i][j] == 0:\n",
        "                bfs(i,j)\n",
        "\n",
        "    # 빙하가 2개면 끝\n",
        "    if cnt >= 2:\n",
        "        ck = False\n",
        "        print(year)\n",
        "        break\n",
        "    # 빙하가 없으면 끝\n",
        "    if cnt == 0:\n",
        "        break\n",
        "    year += 1\n",
        "\n",
        "    visit = deepcopy(v_copy)\n",
        "\n",
        "# 빙하가 없거나 2개로 분리가 안될 때\n",
        "if ck:\n",
        "    print(0)"
      ],
      "execution_count": null,
      "outputs": []
    }
  ]
}