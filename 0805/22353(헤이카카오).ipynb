{
  "nbformat": 4,
  "nbformat_minor": 0,
  "metadata": {
    "colab": {
      "name": "22353(헤이카카오).ipynb",
      "provenance": [],
      "authorship_tag": "ABX9TyMoxsc0AHFo41iX1LL6s5nQ",
      "include_colab_link": true
    },
    "kernelspec": {
      "name": "python3",
      "display_name": "Python 3"
    },
    "language_info": {
      "name": "python"
    }
  },
  "cells": [
    {
      "cell_type": "markdown",
      "metadata": {
        "id": "view-in-github",
        "colab_type": "text"
      },
      "source": [
        "<a href=\"https://colab.research.google.com/github/minicks/-Algorithm_Study/blob/main/0805/22353(%ED%97%A4%EC%9D%B4%EC%B9%B4%EC%B9%B4%EC%98%A4).ipynb\" target=\"_parent\"><img src=\"https://colab.research.google.com/assets/colab-badge.svg\" alt=\"Open In Colab\"/></a>"
      ]
    },
    {
      "cell_type": "code",
      "metadata": {
        "id": "0D-Xhr32xkFN"
      },
      "source": [
        "import sys\n",
        "\n",
        "a, d, k = map(int,sys.stdin.readline().split())\n",
        "# 백분율로 변환\n",
        "d = d/100\n",
        "k = k/100\n",
        "# 기댓값 저장\n",
        "ex = 0\n",
        "# 횟수 저장\n",
        "n = 1\n",
        "# 해당 시점 확률\n",
        "per = d\n",
        "# 이전 시점까지의 확률\n",
        "toper = 1\n",
        "\n",
        "while 1:\n",
        "    # 기댓값저장.\n",
        "    ex += a*n*toper*per\n",
        "\n",
        "    # 100%가 넘으면 정지\n",
        "    if per == 1:\n",
        "        break\n",
        "\n",
        "    # 이전까지의 확률이기때문에 \n",
        "    # 해당 시점에서 실패 확률을 전까지의 확률과 곱\n",
        "    toper = toper*(1-per)\n",
        "    # 해당 시점 확률\n",
        "    per = per*(1+k)\n",
        "    # 횟수 증가\n",
        "    n += 1\n",
        "    # 100가 넘으면 100로 고정\n",
        "    if per > 1:\n",
        "        per = 1\n",
        "\n",
        "print(ex)"
      ],
      "execution_count": null,
      "outputs": []
    }
  ]
}