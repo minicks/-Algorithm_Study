{
  "nbformat": 4,
  "nbformat_minor": 0,
  "metadata": {
    "colab": {
      "name": "2591.ipynb",
      "provenance": [],
      "authorship_tag": "ABX9TyOEWhjuh5/qdprDiCzaCnXZ",
      "include_colab_link": true
    },
    "kernelspec": {
      "name": "python3",
      "display_name": "Python 3"
    },
    "language_info": {
      "name": "python"
    }
  },
  "cells": [
    {
      "cell_type": "markdown",
      "metadata": {
        "id": "view-in-github",
        "colab_type": "text"
      },
      "source": [
        "<a href=\"https://colab.research.google.com/github/minicks/-Algorithm_Study/blob/main/0805/2591.ipynb\" target=\"_parent\"><img src=\"https://colab.research.google.com/assets/colab-badge.svg\" alt=\"Open In Colab\"/></a>"
      ]
    },
    {
      "cell_type": "code",
      "metadata": {
        "id": "az5DQ-S1wuLY"
      },
      "source": [
        "import sys\n",
        "card_num = list(sys.stdin.readline().rstrip())\n",
        "\n",
        "# 전체 길이\n",
        "num_len = len(card_num)\n",
        "\n",
        "# dp는 마지막 단계를 위해서 1개더\n",
        "dp = [0] * (num_len + 1)\n",
        "dp[0] = 1\n",
        "\n",
        "for i in range(num_len):\n",
        "    # 0일때는 제외\n",
        "    if int(card_num[i]) ==  0:\n",
        "        continue\n",
        "    # 0을 제외한 모든 1자리 수는 분리가 가능하기 때문에 전의 dp와 해당 dp를 더한 값을 저장.\n",
        "    dp[i+1] = dp[i+1] + dp[i]\n",
        "    # 마지막 전에는 1자리밖에 없으니 할 필요가 없고 2자리가 1~34사이인지 확인.\n",
        "    if i < num_len - 1 and 1 <= int(\"\".join(card_num[i:i+2])) <= 34:\n",
        "        dp[i+2] = dp[i+2] + dp[i]\n",
        "\n",
        "print(dp[-1])"
      ],
      "execution_count": null,
      "outputs": []
    }
  ]
}