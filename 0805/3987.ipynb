{
  "nbformat": 4,
  "nbformat_minor": 0,
  "metadata": {
    "colab": {
      "name": "3987.ipynb",
      "provenance": [],
      "authorship_tag": "ABX9TyOY5s7loQ0MozvqLvJgOBUT",
      "include_colab_link": true
    },
    "kernelspec": {
      "name": "python3",
      "display_name": "Python 3"
    },
    "language_info": {
      "name": "python"
    }
  },
  "cells": [
    {
      "cell_type": "markdown",
      "metadata": {
        "id": "view-in-github",
        "colab_type": "text"
      },
      "source": [
        "<a href=\"https://colab.research.google.com/github/minicks/-Algorithm_Study/blob/main/0805/3987.ipynb\" target=\"_parent\"><img src=\"https://colab.research.google.com/assets/colab-badge.svg\" alt=\"Open In Colab\"/></a>"
      ]
    },
    {
      "cell_type": "code",
      "metadata": {
        "id": "p4UkoGbzw5ko"
      },
      "source": [
        "import sys\n",
        "\n",
        "N, M = map(int,sys.stdin.readline().split())\n",
        "\n",
        "# 블랙홀로 둘러싸기\n",
        "total = [[\"C\"] * (M+2)]     \n",
        "for _ in range(N):\n",
        "    total.append([\"C\"] + list(sys.stdin.readline().strip()) + [\"C\"])\n",
        "total.append([\"C\"] * (M+2))\n",
        "\n",
        "\n",
        "PR, PC = map(int,sys.stdin.readline().split())\n",
        "\n",
        "URDL = [\"U\",\"R\",\"D\",\"L\"]\n",
        "D = [(-1,0),(0,1),(1,0),(0,-1)]\n",
        "max_cnt = 0\n",
        "\n",
        "# 4방향 탐색\n",
        "for i in range(4):\n",
        "    # 처음에 무조건 움직이기 때문에 1로 시작\n",
        "    cnt = 1\n",
        "    x, y = PR, PC\n",
        "    dir = i\n",
        "    # 해당 방향으로 움직이기\n",
        "    x += D[dir][0]\n",
        "    y += D[dir][1]\n",
        "\n",
        "    # 무한 루프 탐지를 위해서\n",
        "    stop=0\n",
        "    stop_ck = False\n",
        "\n",
        "    # 탐색 시작\n",
        "    while True:\n",
        "        #print(x,y,total[x][y])\n",
        "        # 자기 자신을 또 지나가는 방법은 2이상일 수가 없다 올 수 있는 방향이 4이기 때문에\n",
        "        if (x,y) == (PR,PC):\n",
        "            #print(stop)\n",
        "            stop += 1\n",
        "            if stop > 3:\n",
        "                DIR = URDL[i]\n",
        "                stop_ck = True\n",
        "                break\n",
        "        \n",
        "        # 블랙홀을 만나면 스톱\n",
        "        if total[x][y] == \"C\":\n",
        "            break\n",
        "        # 방향 전환을 위해서\n",
        "        if total[x][y] == \"/\":\n",
        "            if dir in [0,1]:\n",
        "                dir = 1 - dir\n",
        "            if dir in [2,3]:\n",
        "                dir = 5 - dir\n",
        "        if total[x][y] == \"\\\\\":\n",
        "            if dir in [0,3]:\n",
        "                dir = 3 - dir\n",
        "            if dir in [1,2]:\n",
        "                dir = 3 - dir\n",
        "        # 다음 움직이는 것을 미리 카운트하고 좌표도 이동.\n",
        "        cnt += 1\n",
        "        #print(total[x][y])     \n",
        "        x += D[dir][0]\n",
        "        y += D[dir][1]\n",
        "\n",
        "    # 무한 루프를 발견하면 그만.\n",
        "    if stop_ck:\n",
        "        break\n",
        "    # 4방향중 maxcnt를 찾는다.\n",
        "    if max_cnt < cnt:\n",
        "        max_cnt = cnt\n",
        "        DIR = URDL[i]\n",
        "    #print(URDL[i],cnt)\n",
        "\n",
        "# 무한 루프일때 출력\n",
        "if stop_ck:\n",
        "    print(DIR)\n",
        "    print(\"Voyager\")\n",
        "# 아닐 때 출력\n",
        "else:\n",
        "    print(DIR)\n",
        "    print(max_cnt)"
      ],
      "execution_count": null,
      "outputs": []
    }
  ]
}