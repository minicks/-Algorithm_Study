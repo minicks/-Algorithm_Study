{
  "nbformat": 4,
  "nbformat_minor": 0,
  "metadata": {
    "colab": {
      "name": "15925(욱제는 정치쟁이야!!).ipynb",
      "provenance": [],
      "authorship_tag": "ABX9TyOAgbKoGldqSlCjwMduQygX",
      "include_colab_link": true
    },
    "kernelspec": {
      "name": "python3",
      "display_name": "Python 3"
    },
    "language_info": {
      "name": "python"
    }
  },
  "cells": [
    {
      "cell_type": "markdown",
      "metadata": {
        "id": "view-in-github",
        "colab_type": "text"
      },
      "source": [
        "<a href=\"https://colab.research.google.com/github/minicks/-Algorithm_Study/blob/main/0805/15925(%EC%9A%B1%EC%A0%9C%EB%8A%94_%EC%A0%95%EC%B9%98%EC%9F%81%EC%9D%B4%EC%95%BC!!).ipynb\" target=\"_parent\"><img src=\"https://colab.research.google.com/assets/colab-badge.svg\" alt=\"Open In Colab\"/></a>"
      ]
    },
    {
      "cell_type": "code",
      "metadata": {
        "id": "bQ_F-P1Jxlri"
      },
      "source": [
        "import sys\n",
        "\n",
        "N, OO = map(int,sys.stdin.readline().split())\n",
        "\n",
        "total = [list(map(int,sys.stdin.readline().split())) for _ in range(N)]\n",
        "\n",
        "#print(N,OO,total)\n",
        "\n",
        "# 총 2번을 확인하며 바꾸기\n",
        "for _ in range(2):\n",
        "    # 행 확인\n",
        "    for i in range(N):\n",
        "        if total[i].count(OO) >= N//2 +1:\n",
        "            total[i] = [OO] * N\n",
        "\n",
        "    # 열 확인\n",
        "    for j in range(N):\n",
        "        cnt = 0\n",
        "        # 갯수 확인\n",
        "        for i in range(N):\n",
        "            if total[i][j] == OO:\n",
        "                cnt +=1\n",
        "        #print(cnt)\n",
        "        # 바꿔주기\n",
        "        if cnt >= N//2 +1:\n",
        "            for i in range(N):\n",
        "                total[i][j] = OO\n",
        "\n",
        "ck = 1\n",
        "# 모든 원소가 OO로 바뀌지 않으면 못하는 것이기 때문\n",
        "for i in range(N):\n",
        "    if (1 - OO) in total[i]:\n",
        "        ck = 0\n",
        "        break\n",
        "\n",
        "print(ck)"
      ],
      "execution_count": null,
      "outputs": []
    }
  ]
}