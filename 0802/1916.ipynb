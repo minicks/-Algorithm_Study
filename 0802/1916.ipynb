{
  "nbformat": 4,
  "nbformat_minor": 0,
  "metadata": {
    "colab": {
      "name": "1916.ipynb",
      "provenance": [],
      "authorship_tag": "ABX9TyOqW16tRkePdPB2a23asUtK",
      "include_colab_link": true
    },
    "kernelspec": {
      "name": "python3",
      "display_name": "Python 3"
    },
    "language_info": {
      "name": "python"
    }
  },
  "cells": [
    {
      "cell_type": "markdown",
      "metadata": {
        "id": "view-in-github",
        "colab_type": "text"
      },
      "source": [
        "<a href=\"https://colab.research.google.com/github/minicks/-Algorithm_Study/blob/main/0802/1916.ipynb\" target=\"_parent\"><img src=\"https://colab.research.google.com/assets/colab-badge.svg\" alt=\"Open In Colab\"/></a>"
      ]
    },
    {
      "cell_type": "code",
      "metadata": {
        "id": "qeHcJUGkIofU"
      },
      "source": [
        "import sys\n",
        "from heapq import heappush, heappop\n",
        "input = sys.stdin.readline\n",
        "n = int(input())\n",
        "m = int(input())\n",
        "inf = 100000000\n",
        "s = [[] for i in range(n + 1)]\n",
        "dp = [inf for i in range(n + 1)]\n",
        "for i in range(m):\n",
        "    a, b, w = map(int, input().split())\n",
        "    s[a].append([b, w])\n",
        "start, end = map(int, input().split())\n",
        "def dijkstra(start):\n",
        "    dp[start] = 0\n",
        "    heap = []\n",
        "    heappush(heap, [0, start])\n",
        "    while heap:\n",
        "        w, n = heappop(heap)\n",
        "        if dp[n] < w:\n",
        "            continue\n",
        "        for n_n, wei in s[n]:\n",
        "            n_w = w + wei\n",
        "            if dp[n_n] > n_w:\n",
        "                dp[n_n] = n_w\n",
        "                heappush(heap, [n_w, n_n])\n",
        "dijkstra(start)\n",
        "print(dp[end])"
      ],
      "execution_count": null,
      "outputs": []
    }
  ]
}