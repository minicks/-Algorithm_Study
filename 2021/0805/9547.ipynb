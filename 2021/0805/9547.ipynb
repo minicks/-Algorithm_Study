{
  "nbformat": 4,
  "nbformat_minor": 0,
  "metadata": {
    "colab": {
      "name": "9547.ipynb",
      "provenance": [],
      "authorship_tag": "ABX9TyMt4b4DLR7lKlVi7zxcFfJl",
      "include_colab_link": true
    },
    "kernelspec": {
      "name": "python3",
      "display_name": "Python 3"
    },
    "language_info": {
      "name": "python"
    }
  },
  "cells": [
    {
      "cell_type": "markdown",
      "metadata": {
        "id": "view-in-github",
        "colab_type": "text"
      },
      "source": [
        "<a href=\"https://colab.research.google.com/github/minicks/-Algorithm_Study/blob/main/0805/9547.ipynb\" target=\"_parent\"><img src=\"https://colab.research.google.com/assets/colab-badge.svg\" alt=\"Open In Colab\"/></a>"
      ]
    },
    {
      "cell_type": "code",
      "metadata": {
        "id": "FEIB1FzQvuaA"
      },
      "source": [
        "import sys\n",
        "\n",
        "T = int(sys.stdin.readline())\n",
        "\n",
        "for _ in range(T):\n",
        "    C, V = map(int,sys.stdin.readline().split())\n",
        "    vote = []\n",
        "    first = {}\n",
        "    sec = {}\n",
        "\n",
        "    for _ in range(V):\n",
        "        vote.append(list(map(int,sys.stdin.readline().rstrip().split())))\n",
        "    for i in range(V):\n",
        "        v = vote[i]\n",
        "        if first.get(v[0]):\n",
        "            first[v[0]] = first[v[0]] + 1\n",
        "        else:\n",
        "            first[v[0]] = 1\n",
        "    \n",
        "    #\n",
        "    if C == 1:\n",
        "        print(1, 1)\n",
        "        continue\n",
        "    if V == 1:\n",
        "        print(vote[0][0], 1)\n",
        "        continue\n",
        "\n",
        "\n",
        "    Fin = False\n",
        "    for i, j in first.items():\n",
        "        if j > V//2:\n",
        "            print(i, 1)\n",
        "            Fin = True\n",
        "    if Fin:\n",
        "        continue\n",
        "\n",
        "    WT = sorted(first.items(), key=lambda x: x[1], reverse=True)\n",
        "    for i in range(2):\n",
        "        sec[WT[i][0]] = 0\n",
        "    for secv in vote:\n",
        "        for level in secv:\n",
        "            if level == list(sec.keys())[0] or level == list(sec.keys())[1]:\n",
        "                sec[level] += 1\n",
        "                break\n",
        "    \n",
        "    ans = max(sec.keys(), key=(lambda x: sec[x]))\n",
        "    print(ans, 2)"
      ],
      "execution_count": null,
      "outputs": []
    }
  ]
}