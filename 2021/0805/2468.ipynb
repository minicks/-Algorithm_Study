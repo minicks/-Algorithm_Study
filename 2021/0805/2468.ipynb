{
  "nbformat": 4,
  "nbformat_minor": 0,
  "metadata": {
    "colab": {
      "name": "2468.ipynb",
      "provenance": [],
      "authorship_tag": "ABX9TyOIvY4SjCq/zi9gvt9eTYJ2",
      "include_colab_link": true
    },
    "kernelspec": {
      "name": "python3",
      "display_name": "Python 3"
    },
    "language_info": {
      "name": "python"
    }
  },
  "cells": [
    {
      "cell_type": "markdown",
      "metadata": {
        "id": "view-in-github",
        "colab_type": "text"
      },
      "source": [
        "<a href=\"https://colab.research.google.com/github/minicks/-Algorithm_Study/blob/main/0805/2468.ipynb\" target=\"_parent\"><img src=\"https://colab.research.google.com/assets/colab-badge.svg\" alt=\"Open In Colab\"/></a>"
      ]
    },
    {
      "cell_type": "code",
      "metadata": {
        "id": "fgyv3yw8wZ_u"
      },
      "source": [
        "import sys\n",
        "from copy import deepcopy\n",
        "\n",
        "N = int(sys.stdin.readline())\n",
        "\n",
        "total = []\n",
        "# for 문 돌릴 때 어디 까지 할지 정하기 위해 가장 높은 높이를 구하였다.\n",
        "max_h = 0\n",
        "# 전체를 0으로 감싸 탐색을 편하게 하였다.\n",
        "total.append([0] * (N+2))\n",
        "for _ in range(N):\n",
        "    M = list(map(int,sys.stdin.readline().split()))\n",
        "    if max_h < max(M):\n",
        "        max_h = max(M)\n",
        "    total.append([0] + M + [0])\n",
        "total.append([0] * (N+2))\n",
        "\n",
        "# 방문 여부\n",
        "visit = []\n",
        "for _ in range(N+2):\n",
        "    visit.append([0] * (N+2))\n",
        "# 매 높이마다 방문여부를 초기화하기 위해서\n",
        "visit_copy = deepcopy(visit)\n",
        "\n",
        "# 상하좌우만 탐색하면 되기 때문에 각 좌표 저장\n",
        "xylist = [(-1,0),(0,1),(1,0),(0,-1)]\n",
        "\n",
        "# 탐색\n",
        "def bfs(i,j,h):\n",
        "    global cnt\n",
        "    q = []\n",
        "    # 방문 여부와 비 높이보다 높은지 확인\n",
        "    if visit[i][j] == 0 and total[i][j] > h:\n",
        "        q.append((i,j))\n",
        "        visit[i][j] = 1\n",
        "        while q:\n",
        "            A = q.pop()\n",
        "            visit[A[0]][A[1]] = 1\n",
        "            for x,y in xylist:\n",
        "                if total[A[0]+x][A[1]+y] > h and visit[A[0]+x][A[1]+y] == 0:\n",
        "                    q.append((A[0]+x,A[1]+y))\n",
        "        # 각 연결 요소마다 증가시키기위해 if 밖에 있으면 연결요소가 없어도 카운트하기때문에 if안에\n",
        "        cnt += 1\n",
        "\n",
        "# 가장 많은 요소 찾기\n",
        "max_cnt = 0\n",
        "# 높이\n",
        "for h in range(max_h):\n",
        "    # 방문 여부 및 횟구 초기화\n",
        "    cnt = 0\n",
        "    visit = deepcopy(visit_copy)\n",
        "    for i in range(1,N+1):\n",
        "        for j in range(1,N+1):\n",
        "            bfs(i,j,h)\n",
        "    if max_cnt < cnt:\n",
        "        max_cnt = cnt\n",
        "    #print(\"######\",h,max_cnt)\n",
        "\n",
        "print(max_cnt)"
      ],
      "execution_count": null,
      "outputs": []
    }
  ]
}