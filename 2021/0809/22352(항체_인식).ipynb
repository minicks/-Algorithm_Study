{
  "nbformat": 4,
  "nbformat_minor": 0,
  "metadata": {
    "colab": {
      "name": "22352(항체 인식).ipynb",
      "provenance": [],
      "authorship_tag": "ABX9TyPvO6Ywz2Hd3+Y3TcoBTI0r",
      "include_colab_link": true
    },
    "kernelspec": {
      "name": "python3",
      "display_name": "Python 3"
    },
    "language_info": {
      "name": "python"
    }
  },
  "cells": [
    {
      "cell_type": "markdown",
      "metadata": {
        "id": "view-in-github",
        "colab_type": "text"
      },
      "source": [
        "<a href=\"https://colab.research.google.com/github/minicks/-Algorithm_Study/blob/main/0805/22352(%ED%95%AD%EC%B2%B4_%EC%9D%B8%EC%8B%9D).ipynb\" target=\"_parent\"><img src=\"https://colab.research.google.com/assets/colab-badge.svg\" alt=\"Open In Colab\"/></a>"
      ]
    },
    {
      "cell_type": "code",
      "metadata": {
        "id": "N27yk2CUw49I"
      },
      "source": [
        "import sys\n",
        "\n",
        "N, M = map(int,sys.stdin.readline().split())\n",
        "\n",
        "# 전과 후 사진에 패딩주고 받기\n",
        "before = []\n",
        "before.append([0] * (M+2))\n",
        "for _ in range(N):\n",
        "    before.append([0] + list(map(int,sys.stdin.readline().split())) + [0])\n",
        "before.append([0] * (M+2))\n",
        "\n",
        "after = []\n",
        "after.append([0] * (M+2))\n",
        "for _ in range(N):\n",
        "    after.append([0] + list(map(int,sys.stdin.readline().split())) + [0])\n",
        "after.append([0] * (M+2))\n",
        "\n",
        "# 방문 했는지 확인 없어도 됨.\n",
        "# visit = []\n",
        "\n",
        "# for i in range(N+1):\n",
        "#     visit.append([0] * (M+2))\n",
        "\n",
        "# 상하좌우 방향\n",
        "dirs = [(-1,0),(0,1),(1,0),(0,-1)]\n",
        "\n",
        "# bfs 연결 요소 찾기\n",
        "# 여러번 투약하는 것을 방지하기 위해 cnt나 oneck 을 사용\n",
        "# 전에 사진에 투약을 해서 후의 사진과 같은지 확인. 그래서 바뀌는 값을 ack로 저장\n",
        "# 전의 사진이 계속 바뀌기 때문에 ck 값 저장\n",
        "def bfs(i,j,ck,ack):\n",
        "    global cnt\n",
        "    q = [(i,j)]\n",
        "    \n",
        "    while q:\n",
        "        xy = q.pop(0)\n",
        "        #visit[xy[0]][xy[1]] = 1\n",
        "        before[xy[0]][xy[1]] = ack\n",
        "        for dir in dirs:\n",
        "            #if before[xy[0]+dir[0]][xy[1]+dir[1]] == ck and visit[xy[0]+dir[0]][xy[1]+dir[1]] == 0:\n",
        "            if before[xy[0]+dir[0]][xy[1]+dir[1]] == ck:\n",
        "                q.append((xy[0]+dir[0],xy[1]+dir[1]))\n",
        "    cnt += 1\n",
        "\n",
        "\n",
        "# 다른 세포 찾기\n",
        "cnt = 0\n",
        "oneck = False\n",
        "for i in range(1,N+1):\n",
        "    for j in range(1,M+1):\n",
        "        if before[i][j] != after[i][j]:\n",
        "            bfs(i,j,before[i][j],after[i][j])\n",
        "            oneck = True\n",
        "            break\n",
        "    if oneck:\n",
        "        break\n",
        "\n",
        "# 전 사진과 후 사진이 같은지 확인.\n",
        "if before == after and cnt < 2:\n",
        "    print(\"YES\")\n",
        "else:\n",
        "    print(\"NO\")"
      ],
      "execution_count": null,
      "outputs": []
    }
  ]
}
