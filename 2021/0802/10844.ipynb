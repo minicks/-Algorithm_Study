{
  "nbformat": 4,
  "nbformat_minor": 0,
  "metadata": {
    "colab": {
      "name": "10844.ipynb",
      "provenance": [],
      "authorship_tag": "ABX9TyPTW0ENnUfS0dDFf/edHgiH",
      "include_colab_link": true
    },
    "kernelspec": {
      "name": "python3",
      "display_name": "Python 3"
    },
    "language_info": {
      "name": "python"
    }
  },
  "cells": [
    {
      "cell_type": "markdown",
      "metadata": {
        "id": "view-in-github",
        "colab_type": "text"
      },
      "source": [
        "<a href=\"https://colab.research.google.com/github/minicks/-Algorithm_Study/blob/main/0802/10844.ipynb\" target=\"_parent\"><img src=\"https://colab.research.google.com/assets/colab-badge.svg\" alt=\"Open In Colab\"/></a>"
      ]
    },
    {
      "cell_type": "code",
      "metadata": {
        "id": "LsDhevq0InxH"
      },
      "source": [
        "\n",
        "import sys\n",
        "\n",
        "N = int(sys.stdin.readline())\n",
        "dp =[[0,1,1,1,1,1,1,1,1,1]]\n",
        "for _ in range(N-1):\n",
        "    dp.append([0]*10)\n",
        "for i in range(1,N):\n",
        "    dp[i][0] = dp[i-1][1]\n",
        "    for j in range(1,9):\n",
        "        dp[i][j] = dp[i-1][j-1] + dp[i-1][j+1]\n",
        "    dp[i][9] = dp[i-1][8]\n",
        "\n",
        "print(sum(dp[-1])%1000000000)\n",
        "\n"
      ],
      "execution_count": null,
      "outputs": []
    }
  ]
}