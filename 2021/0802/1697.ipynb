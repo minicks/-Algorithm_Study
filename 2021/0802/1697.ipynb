{
  "nbformat": 4,
  "nbformat_minor": 0,
  "metadata": {
    "colab": {
      "name": "1697.ipynb",
      "provenance": [],
      "collapsed_sections": [],
      "authorship_tag": "ABX9TyN/ckDVFElF/t7cVK+xI7EL",
      "include_colab_link": true
    },
    "kernelspec": {
      "name": "python3",
      "display_name": "Python 3"
    },
    "language_info": {
      "name": "python"
    }
  },
  "cells": [
    {
      "cell_type": "markdown",
      "metadata": {
        "id": "view-in-github",
        "colab_type": "text"
      },
      "source": [
        "<a href=\"https://colab.research.google.com/github/minicks/-Algorithm_Study/blob/main/0802/1697.ipynb\" target=\"_parent\"><img src=\"https://colab.research.google.com/assets/colab-badge.svg\" alt=\"Open In Colab\"/></a>"
      ]
    },
    {
      "cell_type": "code",
      "metadata": {
        "id": "GGV0Ea0YGsgj"
      },
      "source": [
        "import sys\n",
        "from collections import deque \n",
        "\n",
        "def bfs(): \n",
        "    q = deque() \n",
        "    q.append(N) \n",
        "    while q: \n",
        "        v = q.popleft() \n",
        "        if v == K: \n",
        "            print(time[v]) \n",
        "            return \n",
        "        for next_step in (v-1, v+1, v*2): \n",
        "            if 0 <= next_step < MAX and not time[next_step]: \n",
        "                time[next_step] = time[v] + 1 \n",
        "                q.append(next_step) \n",
        "                \n",
        "\n",
        "N, K = map(int,sys.stdin.readline().split())\n",
        "MAX = 2*K\n",
        "time = [0]*MAX \n",
        "\n",
        "if N >= K:\n",
        "    print(N - K)\n",
        "else:\n",
        "    bfs()"
      ],
      "execution_count": 1,
      "outputs": []
    }
  ]
}