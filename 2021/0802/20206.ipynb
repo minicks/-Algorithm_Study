{
  "nbformat": 4,
  "nbformat_minor": 0,
  "metadata": {
    "colab": {
      "name": "20206.ipynb",
      "provenance": [],
      "authorship_tag": "ABX9TyPdqQcETIpa0Vtd3+fIyeJF",
      "include_colab_link": true
    },
    "kernelspec": {
      "name": "python3",
      "display_name": "Python 3"
    },
    "language_info": {
      "name": "python"
    }
  },
  "cells": [
    {
      "cell_type": "markdown",
      "metadata": {
        "id": "view-in-github",
        "colab_type": "text"
      },
      "source": [
        "<a href=\"https://colab.research.google.com/github/minicks/-Algorithm_Study/blob/main/0802/20206.ipynb\" target=\"_parent\"><img src=\"https://colab.research.google.com/assets/colab-badge.svg\" alt=\"Open In Colab\"/></a>"
      ]
    },
    {
      "cell_type": "code",
      "metadata": {
        "id": "lj9RsgllIlK8"
      },
      "source": [
        "import sys\n",
        "\n",
        "A, B, C = map(float,sys.stdin.readline().split())\n",
        "x1, x2, y1, y2 = map(float,sys.stdin.readline().split())\n",
        "\n",
        "if A == 0:\n",
        "    if y1 < -(C/B) < y2:\n",
        "        print(\"Poor\")\n",
        "    else:\n",
        "        print(\"Lucky\")\n",
        "elif B == 0:\n",
        "    if x1 < -(C/A) < x2:\n",
        "        print(\"Poor\")\n",
        "    else:\n",
        "        print(\"Lucky\")\n",
        "elif -(A/B) > 0:\n",
        "    if y1 < (-1)*(C+A*x2)/B and (-1)*(C+A*x1)/B <  y2:\n",
        "        print(\"Poor\")\n",
        "    else:\n",
        "        print(\"Lucky\")\n",
        "else:\n",
        "    if y1 < (-1)*(C+A*x1)/B and (-1)*(C+A*x2)/B <  y2:\n",
        "        print(\"Poor\")\n",
        "    else:\n",
        "        print(\"Lucky\")"
      ],
      "execution_count": null,
      "outputs": []
    }
  ]
}