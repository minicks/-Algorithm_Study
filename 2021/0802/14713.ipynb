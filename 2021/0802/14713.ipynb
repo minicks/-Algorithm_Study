{
  "nbformat": 4,
  "nbformat_minor": 0,
  "metadata": {
    "colab": {
      "name": "14713.ipynb",
      "provenance": [],
      "authorship_tag": "ABX9TyODtc/+fND4JccLRPb56DKq",
      "include_colab_link": true
    },
    "kernelspec": {
      "name": "python3",
      "display_name": "Python 3"
    },
    "language_info": {
      "name": "python"
    }
  },
  "cells": [
    {
      "cell_type": "markdown",
      "metadata": {
        "id": "view-in-github",
        "colab_type": "text"
      },
      "source": [
        "<a href=\"https://colab.research.google.com/github/minicks/-Algorithm_Study/blob/main/0802/14713.ipynb\" target=\"_parent\"><img src=\"https://colab.research.google.com/assets/colab-badge.svg\" alt=\"Open In Colab\"/></a>"
      ]
    },
    {
      "cell_type": "code",
      "metadata": {
        "id": "LtQSFW3HImXp"
      },
      "source": [
        "import sys\n",
        "\n",
        "N = int(sys.stdin.readline())\n",
        "t_list = []\n",
        "for _ in range(N):\n",
        "    t_list.append(list(sys.stdin.readline().split()))\n",
        "\n",
        "ck_talk = list(sys.stdin.readline().split())\n",
        "\n",
        "# 제거하면서 남아있는 단어가 있는 지 판단하기위해\n",
        "ck_t = ck_talk[:]\n",
        "\n",
        "# 앵무새가 말한 인덱스를 보면서 다음 단어가 인덱스가 적을 경우 im\n",
        "def sol(t_list, ck_talk):\n",
        "    for sub_t in t_list:\n",
        "        r_idx = -1\n",
        "        for sub in sub_t:\n",
        "            # 앵무새가 말한 단어가 없을 경우\n",
        "            if sub not in ck_talk:\n",
        "                return \"Impossible\"\n",
        "            # 인덱스 확인\n",
        "            idx = ck_talk.index(sub)\n",
        "            # 단어 지우기\n",
        "            ck_t.remove(sub)\n",
        "            # 전 단어 보다 인덱스가 작을 경우\n",
        "            if r_idx > idx:\n",
        "                return \"Impossible\"\n",
        "            r_idx = idx\n",
        "    \n",
        "    # 남아 있는 단어가 있을 경우\n",
        "    if ck_t:\n",
        "        return \"Impossible\"\n",
        "    else:\n",
        "        return \"Possible\"\n",
        "\n",
        "\n",
        "print(sol(t_list, ck_talk))"
      ],
      "execution_count": null,
      "outputs": []
    }
  ]
}