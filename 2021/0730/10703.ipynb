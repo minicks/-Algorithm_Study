{
  "nbformat": 4,
  "nbformat_minor": 0,
  "metadata": {
    "colab": {
      "name": "10703.ipynb",
      "provenance": [],
      "authorship_tag": "ABX9TyMfurSPfw3HNK6qjQkgb+Lc",
      "include_colab_link": true
    },
    "kernelspec": {
      "name": "python3",
      "display_name": "Python 3"
    },
    "language_info": {
      "name": "python"
    }
  },
  "cells": [
    {
      "cell_type": "markdown",
      "metadata": {
        "id": "view-in-github",
        "colab_type": "text"
      },
      "source": [
        "<a href=\"https://colab.research.google.com/github/minicks/-Algorithm_Study/blob/main/0730/10703.ipynb\" target=\"_parent\"><img src=\"https://colab.research.google.com/assets/colab-badge.svg\" alt=\"Open In Colab\"/></a>"
      ]
    },
    {
      "cell_type": "markdown",
      "metadata": {
        "id": "Dnnu32CAo02X"
      },
      "source": [
        "#유성\n",
        "\n",
        "##문제\n",
        "작고 특이한 모양의 유성 사진이 인터넷에 올라왔다. \n",
        "사진에는 매우 높은 곳에서 떨어지고 있는 유성이 허공에 찍혀 있었다. \n",
        "유성이 떨어지고 난 뒤의 사진도 있었지만 안타깝게도 소실돼버려 이를 복원해야 한다.\n",
        "\n",
        "유성 사진을 문자의 배열로 단순화시켜 표기할 것이다. 문자 'X'는 유성의 일부를, 문자 '#'는 땅의 일부를, \n",
        "그리고 나머지(공기)는 문자 '.'로 이루어져 있다.\n",
        "\n",
        "모든 유성 조각들은 연결되어 있다. 즉, 두 부분 유성이 존재한다면, \n",
        "한 쪽에서 유성 조각을 통해 상하좌우로 이동해서 다른 부분 유성에 도달할 수 있다. \n",
        "땅 또한 같은 방식으로 연결되어 있다.\n",
        "\n",
        "주어진 사진에서 유성은 땅보다 위에 있다. 정확히 말하자면, 적어도 한 줄 이상의 공기('.')가 존재하며, \n",
        "유성은 그 보다 위에, 땅은 그 보다 아래쪽에 있다. 또한, 사진의 맨 밑 줄은 모두 땅이다.\n",
        "유성은 수직으로 낙하한다. 유성이 땅에 떨어졌을 때, 유성과 땅은 원형을 유지한다고 한다. \n",
        "유성이 떨어진 후의 사진을 복구하여라.\n",
        "\n",
        "##입력\n",
        "첫 번째 줄에는 각각 사진의 세로와 가로 길이를 의미하는 정수 R과 S (3 ≤ R, S ≤ 3 000)가 주어진다.\n",
        "다음 R 개의 줄에는 문자로 단순화된 사진이 주어진다.\n",
        "\n",
        "##출력\n",
        "유성이 떨어지고 난 뒤의 사진(크기 R × S)을 복원하여 출력하라."
      ]
    },
    {
      "cell_type": "code",
      "metadata": {
        "id": "CDMNe23gosPf"
      },
      "source": [
        "import sys\n",
        "\n",
        "R, S = map(int,sys.stdin.readline().split())\n",
        "\n",
        "# 사진 저장\n",
        "pic = [input() for _ in range(R)]  \n",
        "\n",
        "# 복원할 사진 유성부분을 공기로 바꾼다.\n",
        "re_pic = []\n",
        "for i in range(R):\n",
        "    re_pic.append(list(\"\".join(pic[i]).replace(\"X\",\".\")))\n",
        "\n",
        "# 가장 길때가 아무리 길어도 세로길이 보다 짧을 테니 R로 설정\n",
        "min_air = R\n",
        "# 세로 줄로 확인\n",
        "for j in range(S):\n",
        "    cnt = 0\n",
        "    ck_m = False\n",
        "    # 최소 거리 확인하기\n",
        "    # 밑에 부터 확인하여 공기 층을 세리고 유성을 만나면 공기 층이 몇개인지 판단하고 \n",
        "    for i in range(R-1,-1,-1):\n",
        "        # 밑에 부터 유성을 만나면 거리를 측정한다.\n",
        "        if pic[i][j] == \"X\":\n",
        "            ck_m = True\n",
        "            if min_air > cnt and ck_m:\n",
        "                min_air = cnt\n",
        "        # 공기 층이 나오면 cnt를 세린다.\n",
        "        elif pic[i][j] == \".\":\n",
        "            cnt += 1\n",
        "        # 중간에 땅이 나오는 걸 대비하여 \n",
        "        elif pic[i][j] == \"#\":\n",
        "            cnt = 0\n",
        "    \n",
        "    # 왜 이걸 빼면 시간 초과가 날까?\n",
        "    if min_air > cnt and ck_m:\n",
        "        min_air = cnt\n",
        "\n",
        "# 복원 사진을 위해 X를 만나면 최소 거리만큼 이동\n",
        "for j in range(S):\n",
        "    for i in range(R):\n",
        "        if pic[i][j] == \"X\":\n",
        "            re_pic[i+min_air][j] = \"X\"\n",
        "\n",
        "for i in range(R):    # 결과 출력\n",
        "    print(\"\".join(re_pic[i]))"
      ],
      "execution_count": null,
      "outputs": []
    }
  ]
}