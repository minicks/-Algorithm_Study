{
  "nbformat": 4,
  "nbformat_minor": 0,
  "metadata": {
    "colab": {
      "name": "7569.ipynb",
      "provenance": [],
      "authorship_tag": "ABX9TyMC09XflBsutFfwg3L6pazo",
      "include_colab_link": true
    },
    "kernelspec": {
      "name": "python3",
      "display_name": "Python 3"
    },
    "language_info": {
      "name": "python"
    }
  },
  "cells": [
    {
      "cell_type": "markdown",
      "metadata": {
        "id": "view-in-github",
        "colab_type": "text"
      },
      "source": [
        "<a href=\"https://colab.research.google.com/github/minicks/-Algorithm_Study/blob/main/0730/7569.ipynb\" target=\"_parent\"><img src=\"https://colab.research.google.com/assets/colab-badge.svg\" alt=\"Open In Colab\"/></a>"
      ]
    },
    {
      "cell_type": "markdown",
      "metadata": {
        "id": "TG4u64Nlodnr"
      },
      "source": [
        "#토마토\n",
        "\n",
        "##문제\n",
        "철수의 토마토 농장에서는 토마토를 보관하는 큰 창고를 가지고 있다. \n",
        "토마토는 아래의 그림과 같이 격자모양 상자의 칸에 하나씩 넣은 다음, 상자들을 수직으로 쌓아 올려서 창고에 보관한다.\n",
        "\n",
        "창고에 보관되는 토마토들 중에는 잘 익은 것도 있지만, 아직 익지 않은 토마토들도 있을 수 있다. \n",
        "보관 후 하루가 지나면, 익은 토마토들의 인접한 곳에 있는 익지 않은 토마토들은 익은 토마토의 영향을 받아 익게 된다. \n",
        "하나의 토마토에 인접한 곳은 위, 아래, 왼쪽, 오른쪽, 앞, 뒤 여섯 방향에 있는 토마토를 의미한다. \n",
        "대각선 방향에 있는 토마토들에게는 영향을 주지 못하며, 토마토가 혼자 저절로 익는 경우는 없다고 가정한다. \n",
        "철수는 창고에 보관된 토마토들이 며칠이 지나면 다 익게 되는지 그 최소 일수를 알고 싶어 한다.\n",
        "\n",
        "토마토를 창고에 보관하는 격자모양의 상자들의 크기와 익은 토마토들과 익지 않은 토마토들의 정보가 주어졌을 때, \n",
        "며칠이 지나면 토마토들이 모두 익는지, 그 최소 일수를 구하는 프로그램을 작성하라. \n",
        "단, 상자의 일부 칸에는 토마토가 들어있지 않을 수도 있다.\n",
        "\n",
        "##입력\n",
        "첫 줄에는 상자의 크기를 나타내는 두 정수 M,N과 쌓아올려지는 상자의 수를 나타내는 H가 주어진다. \n",
        "M은 상자의 가로 칸의 수, N은 상자의 세로 칸의 수를 나타낸다. 단, 2 ≤ M ≤ 100, 2 ≤ N ≤ 100, 1 ≤ H ≤ 100 이다. \n",
        "둘째 줄부터는 가장 밑의 상자부터 가장 위의 상자까지에 저장된 토마토들의 정보가 주어진다. \n",
        "즉, 둘째 줄부터 N개의 줄에는 하나의 상자에 담긴 토마토의 정보가 주어진다. \n",
        "각 줄에는 상자 가로줄에 들어있는 토마토들의 상태가 M개의 정수로 주어진다. \n",
        "정수 1은 익은 토마토, 정수 0 은 익지 않은 토마토, 정수 -1은 토마토가 들어있지 않은 칸을 나타낸다. \n",
        "이러한 N개의 줄이 H번 반복하여 주어진다.\n",
        "\n",
        "토마토가 하나 이상 있는 경우만 입력으로 주어진다.\n",
        "\n",
        "##출력\n",
        "여러분은 토마토가 모두 익을 때까지 최소 며칠이 걸리는지를 계산해서 출력해야 한다.\n",
        "만약, 저장될 때부터 모든 토마토가 익어있는 상태이면 0을 출력해야 하고, \n",
        "토마토가 모두 익지는 못하는 상황이면 -1을 출력해야 한다."
      ]
    },
    {
      "cell_type": "code",
      "metadata": {
        "id": "zHRQ5Za1oaFx"
      },
      "source": [
        "from collections import deque\n",
        "import sys\n",
        "\n",
        "# 위치 6방향 저장\n",
        "dx = [1, -1, 0, 0, 0, 0]\n",
        "dy = [0, 0, 1, -1, 0, 0]\n",
        "dz = [0, 0, 0, 0, 1, -1]\n",
        "\n",
        "# bfs\n",
        "def bfs():\n",
        "    while q:\n",
        "        x, y, z = q.popleft()\n",
        "        # 6방향 탐색\n",
        "        for i in range(6):\n",
        "            nx = x + dx[i]\n",
        "            ny = y + dy[i]\n",
        "            nz = z + dz[i]\n",
        "            # 넘어가는지 확인\n",
        "            if 0 <= nx < k and 0 <= ny < n and 0 <= nz < m:\n",
        "                # a에 안 익어있고 방문 안했다면\n",
        "                if a[nx][ny][nz] == 0 and c[nx][ny][nz] == 0:\n",
        "                    # q에 넣기\n",
        "                    q.append([nx, ny, nz])\n",
        "                    # 익은 토마토로 바꾸기\n",
        "                    a[nx][ny][nz] = 1\n",
        "                    # c에 방문 몇 번째로 방문 했는지 표시\n",
        "                    c[nx][ny][nz] = c[x][y][z] + 1\n",
        "\n",
        "\n",
        "m, n, k = map(int, input().split())\n",
        "# 처음 토마토\n",
        "a = [[list(map(int, input().split())) for _ in range(n)] for _ in range(k)]\n",
        "# 방문했는지\n",
        "c = [[[0]*m for _ in range(n)] for _ in range(k)]\n",
        "q = deque()\n",
        "\n",
        "# 익은 토마토 확인\n",
        "for i in range(k):\n",
        "    for j in range(n):\n",
        "        for l in range(m):\n",
        "            # a에 익은 토마토이고 방문 안했다면 q에 넣는다.\n",
        "            if a[i][j][l] == 1 and c[i][j][l] == 0:\n",
        "                q.append([i, j, l])\n",
        "                c[i][j][l] = 1\n",
        "\n",
        "bfs()\n",
        "\n",
        "# 만약에 0이 아직 존재한다면 -1 출력\n",
        "for i in a:\n",
        "    for j in i:\n",
        "        if 0 in j:\n",
        "            print(-1)\n",
        "            sys.exit()\n",
        "# max값 찾기\n",
        "ans = 0\n",
        "for i in c:\n",
        "    for j in i:\n",
        "        list_max = max(j)\n",
        "        ans = max(ans, list_max)\n",
        "#원래 처음에는 익어있기 때문에 그 부분을 빼준다\n",
        "print(ans-1)"
      ],
      "execution_count": null,
      "outputs": []
    }
  ]
}