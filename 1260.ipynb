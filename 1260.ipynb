{
  "nbformat": 4,
  "nbformat_minor": 0,
  "metadata": {
    "colab": {
      "name": "1260.ipynb",
      "provenance": [],
      "authorship_tag": "ABX9TyNojXOzJ7htjwCUnVOvaxTZ",
      "include_colab_link": true
    },
    "kernelspec": {
      "name": "python3",
      "display_name": "Python 3"
    },
    "language_info": {
      "name": "python"
    }
  },
  "cells": [
    {
      "cell_type": "markdown",
      "metadata": {
        "id": "view-in-github",
        "colab_type": "text"
      },
      "source": [
        "<a href=\"https://colab.research.google.com/github/minicks/-Algorithm_Study/blob/main/1260.ipynb\" target=\"_parent\"><img src=\"https://colab.research.google.com/assets/colab-badge.svg\" alt=\"Open In Colab\"/></a>"
      ]
    },
    {
      "cell_type": "code",
      "metadata": {
        "id": "srnucb0T6ZSg"
      },
      "source": [
        "'''\n",
        "문제\n",
        "그래프를 DFS로 탐색한 결과와 BFS로 탐색한 결과를 출력하는 프로그램을 작성하시오. \n",
        "단, 방문할 수 있는 정점이 여러 개인 경우에는 정점 번호가 작은 것을 먼저 방문하고, \n",
        "더 이상 방문할 수 있는 점이 없는 경우 종료한다. 정점 번호는 1번부터 N번까지이다.\n",
        "\n",
        "입력\n",
        "첫째 줄에 정점의 개수 N(1 ≤ N ≤ 1,000), 간선의 개수 M(1 ≤ M ≤ 10,000), \n",
        "탐색을 시작할 정점의 번호 V가 주어진다. 다음 M개의 줄에는 간선이 연결하는 두 정점의 번호가 주어진다. \n",
        "어떤 두 정점 사이에 여러 개의 간선이 있을 수 있다. 입력으로 주어지는 간선은 양방향이다.\n",
        "\n",
        "출력\n",
        "첫째 줄에 DFS를 수행한 결과를, 그 다음 줄에는 BFS를 수행한 결과를 출력한다. \n",
        "V부터 방문된 점을 순서대로 출력하면 된다.\n",
        "'''\n",
        "\n",
        "\n",
        "def dfs(v):\n",
        "    print(v, end=' ')\n",
        "    visit[v] = 1\n",
        "    for i in range(1, n + 1):\n",
        "        if visit[i] == 0 and s[v][i] == 1:\n",
        "            dfs(i)\n",
        "\n",
        "def bfs(v):\n",
        "    queue = [v]\n",
        "    visit[v] = 0\n",
        "    while(queue):\n",
        "        v = queue[0]\n",
        "        print(v, end=' ')\n",
        "        del queue[0]\n",
        "        for i in range(1, n + 1):\n",
        "            if visit[i] == 1 and s[v][i] == 1:\n",
        "                queue.append(i)\n",
        "                visit[i] = 0\n",
        "\n",
        "n, m, v = map(int, input().split())\n",
        "s = [[0] * (n + 1) for i in range(n + 1)]\n",
        "visit = [0 for i in range(n + 1)]\n",
        "for i in range(m):\n",
        "    x, y = map(int, input().split())\n",
        "    s[x][y] = 1\n",
        "    s[y][x] = 1\n",
        "    \n",
        "dfs(v)\n",
        "print()\n",
        "bfs(v)\n"
      ],
      "execution_count": null,
      "outputs": []
    },
    {
      "cell_type": "code",
      "metadata": {
        "id": "9Ro8qSgD7ECh"
      },
      "source": [
        "import sys\n",
        "\n",
        "N, M, V = map(int,input().split())\n",
        "\n",
        "total_M =[]\n",
        "for _ in range(M):\n",
        "    total_M.append(list(map(int,input().split())))"
      ],
      "execution_count": null,
      "outputs": []
    },
    {
      "cell_type": "code",
      "metadata": {
        "id": "HoSJHgfk68zq"
      },
      "source": [
        "##################################################################\n",
        "D_total_M = total_M.copy()\n",
        "D_N_list = [V]\n",
        "D_N1_list = []\n",
        "D_result = []\n",
        "\n",
        "while(D_total_M):   \n",
        "    for N_e in D_N_list:\n",
        "        if not D_total_M:\n",
        "            break\n",
        "        D_result.append(N_e)\n",
        "        D_total_M2 = D_total_M.copy()       \n",
        "        for sub in D_total_M2:\n",
        "            if (N_e in sub) and sub != []:\n",
        "                sub2 = sub.copy()\n",
        "                D_total_M.remove(sub)\n",
        "                sub2.remove(N_e)\n",
        "                sub_ = sub2[0]\n",
        "                if sub_ not in D_result:\n",
        "                    D_N1_list.append(sub_)\n",
        "        D_N1_list = sorted(D_N1_list)\n",
        "        for t in range(len(D_N1_list)):\n",
        "            try:\n",
        "                D_N_list.insert(D_N_list.index(N_e)+1+t,D_N1_list[t])\n",
        "            except:\n",
        "                D_N_list.append(D_N1_list[t])\n",
        "        D_N1_list = []\n",
        "        \n",
        "for i in range(len(D_N_list)-1,-1,-1):\n",
        "    if D_N_list.count(D_N_list[i]) > 1:\n",
        "        del D_N_list[i]\n",
        "        \n",
        "print(' '.join(list(map(str,D_N_list))))\n",
        "\n",
        "\n",
        "\n",
        "\n",
        "\n",
        "    for N_e in D_N_list:\n",
        "        print(\"totalM\",D_total_M)\n",
        "        D_total_M2 = D_total_M.copy()       \n",
        "        for sub in D_total_M2:\n",
        "            print(\"for2\")\n",
        "            print(\"sub1\",sub)\n",
        "            if (N_e in sub) and sub != []:\n",
        "                sub2 = sub.copy()\n",
        "                D_total_M.remove(sub)\n",
        "                sub2.remove(N_e)\n",
        "                print(\"sub2\",sub2)\n",
        "                sub_ = sub2[0]\n",
        "                if sub_ not in D_result:\n",
        "                    D_N1_list.append(sub_)\n",
        "    D_result.append(N_e)\n",
        "    D_N_list = sorted(D_N1_list)\n",
        "    D_N1_list = []\n",
        "    \n",
        "    \n",
        "print(\"DDd\",D_result,\"\\n\\n\")"
      ],
      "execution_count": null,
      "outputs": []
    },
    {
      "cell_type": "code",
      "metadata": {
        "id": "Itda7cZS669S"
      },
      "source": [
        "###############################################################\n",
        "B_total_M = total_M.copy()\n",
        "B_N_list = [V]\n",
        "B_N1_list = []\n",
        "B_result = []\n",
        "\n",
        "while(B_total_M):\n",
        "    for st in B_N_list:\n",
        "        B_total_M2 = B_total_M.copy()\n",
        "        for sub in B_total_M2:\n",
        "            if (st in sub) and sub != []:\n",
        "                sub2 = sub.copy()\n",
        "                B_total_M.remove(sub)\n",
        "                sub2.remove(N_e)\n",
        "                sub_ = sub2[0]\n",
        "                if sub_ not in B_result:\n",
        "                    B_N1_list.append(sub_)\n",
        "        B_N_list = sorted(B_N1_list)\n",
        "    B_N1_list = []\n",
        "    B_result = B_result + B_N_list + B_N1_list\n",
        "    \n",
        "print(B_result)"
      ],
      "execution_count": null,
      "outputs": []
    },
    {
      "cell_type": "code",
      "metadata": {
        "id": "sTsAqd2Q65I9"
      },
      "source": [
        "##################################################################\n",
        "B_total_M = total_M.copy()\n",
        "B_N_list = [V]\n",
        "B_N1_list = []\n",
        "B_result = [V]\n",
        "\n",
        "while(B_total_M):\n",
        "    for N_e in B_N_list:\n",
        "        B_total_M2 = B_total_M.copy()\n",
        "        for sub in B_total_M2:\n",
        "            if (N_e in sub) and sub != []:\n",
        "                sub2 = sub.copy()\n",
        "                B_total_M.remove(sub)\n",
        "                sub2.remove(N_e)\n",
        "                sub_ = sub2[0]\n",
        "                print(B_result,sub_)\n",
        "                if sub_ not in B_result and sub_ not in B_N1_list:\n",
        "                    B_N1_list.append(sub_)\n",
        "    B_N_list = sorted(B_N1_list)\n",
        "    B_N1_list = []\n",
        "    B_result = B_result + B_N_list + B_N1_list\n",
        "    \n",
        "print(' '.join(list(map(str,B_result))))\n",
        "'''"
      ],
      "execution_count": null,
      "outputs": []
    }
  ]
}