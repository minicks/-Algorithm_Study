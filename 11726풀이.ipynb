{
  "nbformat": 4,
  "nbformat_minor": 0,
  "metadata": {
    "colab": {
      "name": "11726풀이.ipynb",
      "provenance": [],
      "authorship_tag": "ABX9TyOrusMcO1GwnNfrXRQIjJ7d",
      "include_colab_link": true
    },
    "kernelspec": {
      "name": "python3",
      "display_name": "Python 3"
    },
    "language_info": {
      "name": "python"
    }
  },
  "cells": [
    {
      "cell_type": "markdown",
      "metadata": {
        "id": "view-in-github",
        "colab_type": "text"
      },
      "source": [
        "<a href=\"https://colab.research.google.com/github/minicks/-Algorithm_Study/blob/main/11726%ED%92%80%EC%9D%B4.ipynb\" target=\"_parent\"><img src=\"https://colab.research.google.com/assets/colab-badge.svg\" alt=\"Open In Colab\"/></a>"
      ]
    },
    {
      "cell_type": "code",
      "metadata": {
        "colab": {
          "base_uri": "https://localhost:8080/"
        },
        "id": "tVGLpNVv1nQz",
        "outputId": "c03956c9-6586-4a1d-ac2a-704fc4fdd8f2"
      },
      "source": [
        "t_list=[1,1]\n",
        "N = int(input())\n",
        "\n",
        "for i in range(2,N+1):\n",
        "  if N == 0 or N == 1:\n",
        "    break\n",
        "  else:\n",
        "    t_list.append((t_list[i-1] + t_list[i-2])%10007)\n",
        "print(t_list[N])\n"
      ],
      "execution_count": 105,
      "outputs": [
        {
          "output_type": "stream",
          "text": [
            "9\n",
            "55\n"
          ],
          "name": "stdout"
        }
      ]
    },
    {
      "cell_type": "code",
      "metadata": {
        "id": "WRZLzXvbpmKL"
      },
      "source": [
        "import math\n",
        "\n",
        "#N = int(input())\n",
        "def sol1(N):\n",
        "  count = 0\n",
        "  for i in range(0,N+1,2):\n",
        "      if i == 0:\n",
        "        count += 1\n",
        "      else:\n",
        "        if i ==78:\n",
        "          print(int(math.factorial(N - (i//2)) / (math.factorial(N-i) * math.factorial(i//2))))\n",
        "        count += int(math.factorial(N - (i//2)) / (math.factorial(N-i) * math.factorial(i//2)))\n",
        "  print(count,end=\" \")\n",
        "  print(count % 10007)"
      ],
      "execution_count": 73,
      "outputs": []
    },
    {
      "cell_type": "code",
      "metadata": {
        "id": "fCp5JTQnxTQT"
      },
      "source": [
        "def factorial(n) :\n",
        "    answer = 1\n",
        "    for i in range(2, n + 1) :\n",
        "        answer *= i\n",
        "    return answer\n",
        "def solution(n) :\n",
        "    answer = 0\n",
        "    if n < 2 :\n",
        "        answer = 1\n",
        "    else :\n",
        "        for i in range(n // 2 + 1) :\n",
        "            a = (n // 2) - i\n",
        "            b = (n % 2) + (2 * i)\n",
        "            #print(a, b, 2*a+b)\n",
        "            if i == 39:\n",
        "              print(factorial(a + b) / (factorial(a) * factorial(b)))\n",
        "            answer += factorial(a + b) / (factorial(a) * factorial(b))\n",
        "    return answer, answer % 10007"
      ],
      "execution_count": 76,
      "outputs": []
    },
    {
      "cell_type": "code",
      "metadata": {
        "colab": {
          "base_uri": "https://localhost:8080/"
        },
        "id": "RMkhIwzWxqyp",
        "outputId": "9b7ac9f3-b47e-4a75-8f65-43870fdf2709"
      },
      "source": [
        "a=100\n",
        "\n",
        "print(sol1(a),solution(a))"
      ],
      "execution_count": 91,
      "outputs": [
        {
          "output_type": "stream",
          "text": [
            "22138745874816900\n",
            "573147844013817081300 2154\n",
            "36519676207704.0\n",
            "None (5.731478440138171e+20, 429.0)\n"
          ],
          "name": "stdout"
        }
      ]
    },
    {
      "cell_type": "code",
      "metadata": {
        "colab": {
          "base_uri": "https://localhost:8080/"
        },
        "id": "H3SN94a_xnsJ",
        "outputId": "fb63852b-c650-4214-8c96-4622e407ae86"
      },
      "source": [
        "print(f\"{1.447233402467622*(10**16)%10007}\")"
      ],
      "execution_count": 83,
      "outputs": [
        {
          "output_type": "stream",
          "text": [
            "2084.0\n"
          ],
          "name": "stdout"
        }
      ]
    },
    {
      "cell_type": "code",
      "metadata": {
        "id": "mNd8HwMNsAPi"
      },
      "source": [
        "import math"
      ],
      "execution_count": 8,
      "outputs": []
    },
    {
      "cell_type": "code",
      "metadata": {
        "colab": {
          "base_uri": "https://localhost:8080/"
        },
        "id": "bQKv_v-Xr908",
        "outputId": "6703cee8-3e00-4ee7-d9f5-37e7393a14ba"
      },
      "source": [
        "print(dir(math))"
      ],
      "execution_count": 9,
      "outputs": [
        {
          "output_type": "stream",
          "text": [
            "['__doc__', '__loader__', '__name__', '__package__', '__spec__', 'acos', 'acosh', 'asin', 'asinh', 'atan', 'atan2', 'atanh', 'ceil', 'copysign', 'cos', 'cosh', 'degrees', 'e', 'erf', 'erfc', 'exp', 'expm1', 'fabs', 'factorial', 'floor', 'fmod', 'frexp', 'fsum', 'gamma', 'gcd', 'hypot', 'inf', 'isclose', 'isfinite', 'isinf', 'isnan', 'ldexp', 'lgamma', 'log', 'log10', 'log1p', 'log2', 'modf', 'nan', 'pi', 'pow', 'radians', 'remainder', 'sin', 'sinh', 'sqrt', 'tan', 'tanh', 'tau', 'trunc']\n"
          ],
          "name": "stdout"
        }
      ]
    },
    {
      "cell_type": "code",
      "metadata": {
        "colab": {
          "base_uri": "https://localhost:8080/"
        },
        "id": "o4_lPtVOsDSc",
        "outputId": "75474693-8bdb-4704-d8cb-93986ce6e02e"
      },
      "source": [
        "9841 + 2249\n"
      ],
      "execution_count": 88,
      "outputs": [
        {
          "output_type": "execute_result",
          "data": {
            "text/plain": [
              "12090"
            ]
          },
          "metadata": {
            "tags": []
          },
          "execution_count": 88
        }
      ]
    },
    {
      "cell_type": "code",
      "metadata": {
        "colab": {
          "base_uri": "https://localhost:8080/"
        },
        "id": "UOtB4eXa0FGL",
        "outputId": "c7e97baf-23fd-44cd-9174-b609cb7cd52d"
      },
      "source": [
        "12090 % 10007"
      ],
      "execution_count": 89,
      "outputs": [
        {
          "output_type": "execute_result",
          "data": {
            "text/plain": [
              "2083"
            ]
          },
          "metadata": {
            "tags": []
          },
          "execution_count": 89
        }
      ]
    }
  ]
}