{
  "nbformat": 4,
  "nbformat_minor": 0,
  "metadata": {
    "colab": {
      "name": "15486.ipynb",
      "provenance": [],
      "authorship_tag": "ABX9TyOMRzrExv/sqMC5P3G+tuKm",
      "include_colab_link": true
    },
    "kernelspec": {
      "name": "python3",
      "display_name": "Python 3"
    },
    "language_info": {
      "name": "python"
    }
  },
  "cells": [
    {
      "cell_type": "markdown",
      "metadata": {
        "id": "view-in-github",
        "colab_type": "text"
      },
      "source": [
        "<a href=\"https://colab.research.google.com/github/minicks/-Algorithm_Study/blob/main/15486.ipynb\" target=\"_parent\"><img src=\"https://colab.research.google.com/assets/colab-badge.svg\" alt=\"Open In Colab\"/></a>"
      ]
    },
    {
      "cell_type": "code",
      "metadata": {
        "id": "ObkBzTPr6YXY"
      },
      "source": [
        "'''\n",
        "문제\n",
        "상담원으로 일하고 있는 백준이는 퇴사를 하려고 한다.\n",
        "오늘부터 N+1일째 되는 날 퇴사를 하기 위해서, 남은 N일 동안 최대한 많은 상담을 하려고 한다.\n",
        "백준이는 비서에게 최대한 많은 상담을 잡으라고 부탁을 했고, 비서는 하루에 하나씩 서로 다른 사람의 상담을 잡아놓았다.\n",
        "각각의 상담은 상담을 완료하는데 걸리는 기간 Ti와 상담을 했을 때 받을 수 있는 금액 Pi로 이루어져 있다.\n",
        "N = 7인 경우에 다음과 같은 상담 일정표를 보자.\n",
        " \t1일\t2일\t3일\t4일\t5일\t6일\t7일\n",
        "Ti\t3\t5\t1\t1\t2\t4\t2\n",
        "Pi\t10\t20\t10\t20\t15\t40\t200\n",
        "1일에 잡혀있는 상담은 총 3일이 걸리며, 상담했을 때 받을 수 있는 금액은 10이다. \n",
        "5일에 잡혀있는 상담은 총 2일이 걸리며, 받을 수 있는 금액은 15이다.\n",
        "상담을 하는데 필요한 기간은 1일보다 클 수 있기 때문에, 모든 상담을 할 수는 없다. \n",
        "예를 들어서 1일에 상담을 하게 되면, 2일, 3일에 있는 상담은 할 수 없게 된다. \n",
        "2일에 있는 상담을 하게 되면, 3, 4, 5, 6일에 잡혀있는 상담은 할 수 없다.\n",
        "또한, N+1일째에는 회사에 없기 때문에, 6, 7일에 있는 상담을 할 수 없다.\n",
        "퇴사 전에 할 수 있는 상담의 최대 이익은 1일, 4일, 5일에 있는 상담을 하는 것이며, 이때의 이익은 10+20+15=45이다.\n",
        "상담을 적절히 했을 때, 백준이가 얻을 수 있는 최대 수익을 구하는 프로그램을 작성하시오.\n",
        "\n",
        "입력\n",
        "첫째 줄에 N (1 ≤ N ≤ 1,500,000)이 주어진다.\n",
        "둘째 줄부터 N개의 줄에 Ti와 Pi가 공백으로 구분되어서 주어지며, 1일부터 N일까지 순서대로 주어진다. \n",
        "(1 ≤ Ti ≤ 50, 1 ≤ Pi ≤ 1,000)\n",
        "\n",
        "출력\n",
        "첫째 줄에 백준이가 얻을 수 있는 최대 이익을 출력한다.\n",
        "'''"
      ],
      "execution_count": null,
      "outputs": []
    },
    {
      "cell_type": "code",
      "metadata": {
        "id": "O2rVrB1k7r0B"
      },
      "source": [
        "import sys\n",
        "\n",
        "N = int(sys.stdin.readline())\n",
        "\n",
        "day = N\n",
        "T, P = [], []\n",
        "dp = [0]*(N+1)\n",
        "\n",
        "for i in range(N):\n",
        "    temp = list(map(int, sys.stdin.readline().split()))\n",
        "    T.append(temp[0])\n",
        "    P.append(temp[1])\n",
        "print(T)\n",
        "print(P)\n",
        "\n",
        "for i in range(0, N):\n",
        "    if T[i] <= N - i:\n",
        "        print(\"aaaa\",dp[i+T[i]], dp[i]+P[i])\n",
        "        dp[i+T[i]] = max(dp[i+T[i]], dp[i]+P[i])\n",
        "    \n",
        "    print(\"bbb\",dp[i+1], dp[i])   \n",
        "    dp[i+1] = max(dp[i+1], dp[i])\n",
        "    \n",
        "\n",
        "    print(dp)\n",
        "\n",
        "print(dp[N])"
      ],
      "execution_count": null,
      "outputs": []
    },
    {
      "cell_type": "code",
      "metadata": {
        "id": "yySh771j7x3i"
      },
      "source": [
        "'''\n",
        "N = int(input())\n",
        "\n",
        "sc_list =[]\n",
        "for i in range(1,N+1):\n",
        "    sc_list.append([i,list(map(int,input().split()))])\n",
        "\n",
        "\n",
        "max_b = 0\n",
        "\n",
        "def sol(sc_list,b):\n",
        "    #print(sc_list,b)\n",
        "    global N\n",
        "    global max_b\n",
        "    # 기간이 1이면 선택\n",
        "    if not sc_list:\n",
        "        if max_b < b:\n",
        "            max_b = b\n",
        "        return max_b\n",
        "\n",
        "    if sc_list[0][1][0] == 1:\n",
        "        b += sc_list[0][1][1]\n",
        "        return sol(sc_list[1:],b)\n",
        "    elif sc_list[0][1][0] + sc_list[0][0] - 1 > N:\n",
        "        return sol(sc_list[1:],b)\n",
        "    else:\n",
        "        A = sol(sc_list[sc_list[0][1][0]:],b + sc_list[0][1][1])\n",
        "        B = sol(sc_list[1:],b)\n",
        "        if A > B: \n",
        "            return A\n",
        "        else:\n",
        "            return B\n",
        "\n",
        "\n",
        "print(sol(sc_list,max_b))\n",
        "\n",
        "# for i in range(N):\n",
        "#     # 기간이 1이면 선택\n",
        "#     if sc_list[i][0] == 1:\n",
        "#         max_b += sc_list[i][1]\n",
        "\n",
        "\n",
        "\n",
        "#     j = i\n",
        "#     while(j < N):\n",
        "#         max_b += sc_list[j][1]\n",
        "#         j += sc_list[j][0]\n",
        "'''"
      ],
      "execution_count": null,
      "outputs": []
    }
  ]
}
