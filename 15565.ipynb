{
  "nbformat": 4,
  "nbformat_minor": 0,
  "metadata": {
    "colab": {
      "name": "15565.ipynb",
      "provenance": [],
      "authorship_tag": "ABX9TyPFkfNn9cElK1OMbjERkkqz",
      "include_colab_link": true
    },
    "kernelspec": {
      "name": "python3",
      "display_name": "Python 3"
    },
    "language_info": {
      "name": "python"
    }
  },
  "cells": [
    {
      "cell_type": "markdown",
      "metadata": {
        "id": "view-in-github",
        "colab_type": "text"
      },
      "source": [
        "<a href=\"https://colab.research.google.com/github/minicks/-Algorithm_Study/blob/main/15565.ipynb\" target=\"_parent\"><img src=\"https://colab.research.google.com/assets/colab-badge.svg\" alt=\"Open In Colab\"/></a>"
      ]
    },
    {
      "cell_type": "code",
      "metadata": {
        "id": "jJrp-4I66W7z"
      },
      "source": [
        "'''\n",
        "문제\n",
        "꿀귀 라이언 인형과, 마찬가지로 꿀귀인 어피치 인형이 N개 일렬로 놓여 있다. \n",
        "라이언 인형은 1, 어피치 인형은 2로 표현하자. \n",
        "라이언 인형이 K개 이상 있는 가장 작은 연속된 인형들의 집합의 크기를 구하여라.\n",
        "\n",
        "입력\n",
        "첫 줄에 N과 K가 주어진다. (1 ≤ K ≤ N ≤ 106)\n",
        "둘째 줄에 N개의 인형의 정보가 주어진다. (1 또는 2)\n",
        "\n",
        "출력\n",
        "K개 이상의 라이언 인형을 포함하는 가장 작은 연속된 인형들의 집합의 크기를 출력한다. 그런 집합이 없다면 -1을 출력한다.\n",
        "'''"
      ],
      "execution_count": null,
      "outputs": []
    },
    {
      "cell_type": "code",
      "metadata": {
        "id": "ZZB0odre716i"
      },
      "source": [
        "\n",
        "N, K = map(int,input().split())\n",
        "\n",
        "N_list = list(map(int,input().split()))\n",
        "\n",
        "idx_list = []\n",
        "\n",
        "#인형 위치 확인\n",
        "for i in range(N):\n",
        "    if N_list[i] == 1:\n",
        "        idx_list.append(i)\n",
        "\n",
        "#인형 위치 차이로 집합 구하기\n",
        "min_set = N + 1\n",
        "for i in range(len(idx_list) - K + 1):\n",
        "    if min_set > idx_list[i + (K - 1)] - idx_list[i] + 1:\n",
        "        min_set = idx_list[i + (K - 1)] - idx_list[i] + 1\n",
        "\n",
        "if min_set >= N + 1:\n",
        "    print(-1)\n",
        "else:\n",
        "    print(min_set)"
      ],
      "execution_count": null,
      "outputs": []
    }
  ]
}