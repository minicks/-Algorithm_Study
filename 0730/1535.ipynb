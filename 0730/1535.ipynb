{
  "nbformat": 4,
  "nbformat_minor": 0,
  "metadata": {
    "colab": {
      "name": "1535.ipynb",
      "provenance": [],
      "authorship_tag": "ABX9TyP2T+vsi+/jJ4wtbr8mTIt/",
      "include_colab_link": true
    },
    "kernelspec": {
      "name": "python3",
      "display_name": "Python 3"
    },
    "language_info": {
      "name": "python"
    }
  },
  "cells": [
    {
      "cell_type": "markdown",
      "metadata": {
        "id": "view-in-github",
        "colab_type": "text"
      },
      "source": [
        "<a href=\"https://colab.research.google.com/github/minicks/-Algorithm_Study/blob/main/0730/1535.ipynb\" target=\"_parent\"><img src=\"https://colab.research.google.com/assets/colab-badge.svg\" alt=\"Open In Colab\"/></a>"
      ]
    },
    {
      "cell_type": "markdown",
      "metadata": {
        "id": "k7qyIZ6Bot62"
      },
      "source": [
        "#안녕\n",
        "\n",
        "##문제\n",
        "세준이는 성형수술을 한 후에 병원에 너무 오래 입원해 있었다. \n",
        "이제 세준이가 병원에 입원한 동안 자기를 생각해준 사람들에게 감사하다고 말할 차례이다.\n",
        "\n",
        "세준이를 생각해준 사람은 총 N명이 있다. 사람의 번호는 1번부터 N번까지 있다. \n",
        "세준이가 i번 사람에게 인사를 하면 L[i]만큼의 체력을 잃고, J[i]만큼의 기쁨을 얻는다. \n",
        "세준이는 각각의 사람에게 최대 1번만 말할 수 있다.\n",
        "\n",
        "세준이의 목표는 주어진 체력내에서 최대한의 기쁨을 느끼는 것이다. 세준이의 체력은 100이고, 기쁨은 0이다.\n",
        " 만약 세준이의 체력이 0이나 음수가 되면, 죽어서 아무런 기쁨을 못 느낀 것이 된다. \n",
        " 세준이가 얻을 수 있는 최대 기쁨을 출력하는 프로그램을 작성하시오.\n",
        "\n",
        "##입력\n",
        "첫째 줄에 사람의 수 N(<=20)이 들어온다. 둘째 줄에는 각각의 사람에게 인사를 할 때, \n",
        "잃는 체력이 1번 사람부터 순서대로 들어오고, 셋째 줄에는 각각의 사람에게 인사를 할 때, \n",
        "얻는 기쁨이 1번 사람부터 순서대로 들어온다. 체력과 기쁨은 100보다 작거나 같은 자연수 또는 0이다.\n",
        "\n",
        "##출력\n",
        "첫째 줄에 세준이가 얻을 수 있는 최대 기쁨을 출력한다."
      ]
    },
    {
      "cell_type": "code",
      "metadata": {
        "id": "AGJ4oSkJotWC"
      },
      "source": [
        "import sys\n",
        "\n",
        "N = int(sys.stdin.readline())\n",
        "\n",
        "# 체력, 행복 리스트\n",
        "heal_list = list(map(int,sys.stdin.readline().split()))\n",
        "hap_list = list(map(int,sys.stdin.readline().split()))\n",
        "\n",
        "from itertools import combinations\n",
        "\n",
        "# 인덱스를 구하기위한 리스트\n",
        "n_list = [i for i in range(N)]\n",
        "\n",
        "# 최대 행복\n",
        "max_hap = 0\n",
        "\n",
        "# 어차피 다구하는 거라 반대로 해도 상관 없음\n",
        "for i in range(N,0,-1):\n",
        "    # 인덱스 콤비 구하기\n",
        "    combi = list(combinations(n_list,i))\n",
        "    \n",
        "    # 인덱스 해보기\n",
        "    for idxs in combi:\n",
        "        total_heal = 0\n",
        "        total_hap = 0\n",
        "        # 인덱스로 체력, 행복 구하기\n",
        "        for idx in idxs:\n",
        "            total_heal += heal_list[idx]\n",
        "            total_hap += hap_list[idx]\n",
        "            # 밖에 하나만 있어도 되지만 뭔가 빨리 돌리기 위해서 안에도\n",
        "            if total_heal >= 100:\n",
        "                break\n",
        "        if total_heal >= 100:\n",
        "                continue\n",
        "        # max 행복\n",
        "        if max_hap < total_hap:\n",
        "            max_hap = total_hap\n",
        "\n",
        "print(max_hap)"
      ],
      "execution_count": null,
      "outputs": []
    }
  ]
}