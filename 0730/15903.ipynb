{
  "nbformat": 4,
  "nbformat_minor": 0,
  "metadata": {
    "colab": {
      "name": "15903.ipynb",
      "provenance": [],
      "authorship_tag": "ABX9TyO387w//f7x+pQYsatsKVzc",
      "include_colab_link": true
    },
    "kernelspec": {
      "name": "python3",
      "display_name": "Python 3"
    },
    "language_info": {
      "name": "python"
    }
  },
  "cells": [
    {
      "cell_type": "markdown",
      "metadata": {
        "id": "view-in-github",
        "colab_type": "text"
      },
      "source": [
        "<a href=\"https://colab.research.google.com/github/minicks/-Algorithm_Study/blob/main/0730/15903.ipynb\" target=\"_parent\"><img src=\"https://colab.research.google.com/assets/colab-badge.svg\" alt=\"Open In Colab\"/></a>"
      ]
    },
    {
      "cell_type": "markdown",
      "metadata": {
        "id": "hAVbIo5CoyWI"
      },
      "source": [
        "#카드 합체 놀이\n",
        "\n",
        "##문제\n",
        "석환이는 아기다. 아기 석환이는 자연수가 쓰여져있는 카드를 갖고 다양한 놀이를 하며 노는 것을 좋아한다. 오늘 아기 석환이는 무슨 놀이를 하고 있을까? 바로 카드 합체 놀이이다!\n",
        "\n",
        "아기 석환이는 자연수가 쓰여진 카드를 n장 갖고 있다. 처음에 i번 카드엔 ai가 쓰여있다. 카드 합체 놀이는 이 카드들을 합체하며 노는 놀이이다. 카드 합체는 다음과 같은 과정으로 이루어진다.\n",
        "\n",
        "x번 카드와 y번 카드를 골라 그 두 장에 쓰여진 수를 더한 값을 계산한다. (x ≠ y)\n",
        "계산한 값을 x번 카드와 y번 카드 두 장 모두에 덮어 쓴다.\n",
        "이 카드 합체를 총 m번 하면 놀이가 끝난다. m번의 합체를 모두 끝낸 뒤, n장의 카드에 쓰여있는 수를 모두 더한 값이 이 놀이의 점수가 된다. 이 점수를 가장 작게 만드는 것이 놀이의 목표이다.\n",
        "\n",
        "아기 석환이는 수학을 좋아하긴 하지만, 아직 아기이기 때문에 점수를 얼마나 작게 만들 수 있는지를 알 수는 없었다(어른 석환이는 당연히 쉽게 알 수 있다). 그래서 문제 해결 능력이 뛰어난 여러분에게 도움을 요청했다. 만들 수 있는 가장 작은 점수를 계산하는 프로그램을 만들어보자.\n",
        "\n",
        "##입력\n",
        "첫 번째 줄에 카드의 개수를 나타내는 수 n(2 ≤ n ≤ 1,000)과 카드 합체를 몇 번 하는지를 나타내는 수 m(0 ≤ m ≤ 15×n)이 주어진다.\n",
        "\n",
        "두 번째 줄에 맨 처음 카드의 상태를 나타내는 n개의 자연수 a1, a2, …, an이 공백으로 구분되어 주어진다. (1 ≤ ai ≤ 1,000,000)\n",
        "\n",
        "##출력\n",
        "첫 번째 줄에 만들 수 있는 가장 작은 점수를 출력한다."
      ]
    },
    {
      "cell_type": "code",
      "metadata": {
        "id": "__RRdSLDotFv"
      },
      "source": [
        "import sys\n",
        "\n",
        "N, M = map(int,sys.stdin.readline().split())\n",
        "card = list(map(int,sys.stdin.readline().split()))\n",
        "\n",
        "\n",
        "for _ in range(M):\n",
        "    card.sort()\n",
        "\n",
        "    c_sum = sum(card[:2])\n",
        "\n",
        "    card[0] = c_sum\n",
        "    card[1] = c_sum\n",
        "\n",
        "print(sum(card))\n"
      ],
      "execution_count": null,
      "outputs": []
    }
  ]
}