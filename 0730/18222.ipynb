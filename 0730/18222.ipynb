{
  "nbformat": 4,
  "nbformat_minor": 0,
  "metadata": {
    "colab": {
      "name": "18222.ipynb",
      "provenance": [],
      "authorship_tag": "ABX9TyPDlv7i7g9j7EwtKpsI/Gdd",
      "include_colab_link": true
    },
    "kernelspec": {
      "name": "python3",
      "display_name": "Python 3"
    },
    "language_info": {
      "name": "python"
    }
  },
  "cells": [
    {
      "cell_type": "markdown",
      "metadata": {
        "id": "view-in-github",
        "colab_type": "text"
      },
      "source": [
        "<a href=\"https://colab.research.google.com/github/minicks/-Algorithm_Study/blob/main/0730/18222.ipynb\" target=\"_parent\"><img src=\"https://colab.research.google.com/assets/colab-badge.svg\" alt=\"Open In Colab\"/></a>"
      ]
    },
    {
      "cell_type": "markdown",
      "metadata": {
        "id": "aHNYgDjmoCqX"
      },
      "source": [
        "#투에-모스 문자열\n",
        "\n",
        "##문제\n",
        "0과 1로 이루어진 길이가 무한한 문자열 X가 있다. 이 문자열은 다음과 같은 과정으로 만들어진다.\n",
        "\n",
        "X는 맨 처음에 \"0\"으로 시작한다. \n",
        "X에서 0을 1로, 1을 0으로 뒤바꾼 문자열 X'을 만든다.\n",
        "X의 뒤에 X'를 붙인 문자열을 X로 다시 정의한다. \n",
        "2~3의 과정을 무한히 반복한다.\n",
        "즉, X는 처음에 \"0\"으로 시작하여 \"01\"이 되고, \"0110\"이 되고, \"01101001\"이 되고, ⋯ \n",
        "의 과정을 거쳐 다음과 같이 나타내어진다.\n",
        "\n",
        "    \"011010011001011010010110011010011001011001101001⋯⋯\"\n",
        "\n",
        "자연수 k가 주어졌을 때 X의 k번째에는 무슨 문자가 오는지 구하여라.\n",
        "\n",
        "##입력\n",
        "첫 번째 줄에 자연수 k (1 ≤ k ≤ 1018) 가 주어진다.\n",
        "\n",
        "##출력\n",
        "첫 번째 줄에 k번째에 오는 문자를 출력하라."
      ]
    },
    {
      "cell_type": "code",
      "metadata": {
        "id": "hG123l7un31Q"
      },
      "source": [
        "import sys\n",
        "\n",
        "N = int(sys.stdin.readline())\n",
        "\n",
        "# 재귀식 사용\n",
        "# t0 = 0\n",
        "# t2n = tn\n",
        "# t2n+1 = 1 - tn\n",
        "def sol(N):\n",
        "    if N == 0:\n",
        "        return 0\n",
        "    elif N % 2:\n",
        "        return 1 - sol(N//2)\n",
        "    else:\n",
        "        return sol(N//2)\n",
        "\n",
        "\n",
        "print(sol(N - 1))"
      ],
      "execution_count": null,
      "outputs": []
    }
  ]
}