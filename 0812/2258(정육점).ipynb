{
  "nbformat": 4,
  "nbformat_minor": 0,
  "metadata": {
    "colab": {
      "name": "2258(정육점).ipynb",
      "provenance": [],
      "authorship_tag": "ABX9TyMs4923WkrlTQaCQMkWaiBP",
      "include_colab_link": true
    },
    "kernelspec": {
      "name": "python3",
      "display_name": "Python 3"
    },
    "language_info": {
      "name": "python"
    }
  },
  "cells": [
    {
      "cell_type": "markdown",
      "metadata": {
        "id": "view-in-github",
        "colab_type": "text"
      },
      "source": [
        "<a href=\"https://colab.research.google.com/github/minicks/-Algorithm_Study/blob/main/0812/2258(%EC%A0%95%EC%9C%A1%EC%A0%90).ipynb\" target=\"_parent\"><img src=\"https://colab.research.google.com/assets/colab-badge.svg\" alt=\"Open In Colab\"/></a>"
      ]
    },
    {
      "cell_type": "code",
      "metadata": {
        "id": "AH83CNARLt3A"
      },
      "source": [
        "import sys\n",
        "\n",
        "N, M = map(int,sys.stdin.readline().split())\n",
        "\n",
        "meats = [tuple(map(int,sys.stdin.readline().split())) for _ in range(N)]\n",
        "\n",
        "# 가격을 오름차순, 무게를 내림차순\n",
        "meats.sort(key=lambda x: (x[1], -x[0]))\n",
        "# 처음 원소를 생각해주기 위해\n",
        "meats = [(0,0)] + meats\n",
        "# 전의 값을 생각해주기 위해 DP처럼 해결\n",
        "\n",
        "# 초기화\n",
        "# 가격과 무게를 저장\n",
        "dp=[]\n",
        "for i in range(N+2):\n",
        "    dp.append([0,0]) \n",
        "\n",
        "def sol():\n",
        "    # 이거 보다 큰 값이 없기 때문\n",
        "    minprice = 2147483647\n",
        "\n",
        "    # 하지 못하는 경우를 파악하기 위해\n",
        "    ck = True\n",
        "    # 탐색\n",
        "    for i in range(1,N+1):\n",
        "        # 무게는 전의 것에 더하기\n",
        "        dp[i][0] = dp[i-1][0] + meats[i][0]\n",
        "\n",
        "        # 가격은 전보다 크다면 그대로 저장\n",
        "        if meats[i][1] > meats[i-1][1]:\n",
        "            dp[i][1] = meats[i][1]\n",
        "        # 하지만 같다면 가격이 같기 때문에 더해준다.\n",
        "        else:\n",
        "            dp[i][1] = dp[i-1][1] + meats[i][1]\n",
        "        \n",
        "        # 무게가 원하는 무게보다 크다면 가격을 저장\n",
        "        if dp[i][0] >= M:\n",
        "            # 무게가 목표이상 올라가지 않으면 ck가 True\n",
        "            ck = False\n",
        "            # 해당 가격이 더 작다면 저장.\n",
        "            if minprice >= dp[i][1]:\n",
        "                minprice = dp[i][1]\n",
        "    \n",
        "    # -1 확인\n",
        "    if ck:\n",
        "        print(-1)\n",
        "    else:\n",
        "        print(minprice)\n",
        "\n",
        "sol()"
      ],
      "execution_count": null,
      "outputs": []
    }
  ]
}